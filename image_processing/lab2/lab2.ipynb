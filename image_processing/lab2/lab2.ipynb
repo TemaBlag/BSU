{
  "cells": [
    {
      "cell_type": "markdown",
      "metadata": {
        "id": "94ZmZ3eB_2FA"
      },
      "source": [
        "# Лабораторная работа 2\n",
        "\n",
        "## Построение скелета бинарного изображения\n",
        "\n",
        "Разработать программу построения скелета бинарного изображения на основе преобразований утоньшения.\n",
        "\n",
        "Содержание отчета:\n",
        "- Исходные изображения\n",
        "- Код программы (для Jupyter Notebook)\n",
        "- Результат работы программы\n",
        "- Срок: 15.03.2025"
      ]
    },
    {
      "cell_type": "code",
      "execution_count": null,
      "metadata": {
        "colab": {
          "base_uri": "https://localhost:8080/"
        },
        "id": "JlWGzP-3_2E-",
        "outputId": "a7ad8c7c-fa47-4818-e32c-671816780189"
      },
      "outputs": [
        {
          "output_type": "stream",
          "name": "stdout",
          "text": [
            "Populating the interactive namespace from numpy and matplotlib\n"
          ]
        }
      ],
      "source": [
        "%pylab inline\n",
        "import skimage.io\n",
        "from matplotlib.pyplot import imread\n",
        "from matplotlib.pyplot import imsave\n",
        "import matplotlib.pyplot as plt\n",
        "import numpy as np\n",
        "from math import ceil\n",
        "from numpy import invert\n",
        "from scipy.ndimage import binary_erosion, binary_dilation"
      ]
    },
    {
      "cell_type": "code",
      "execution_count": null,
      "metadata": {
        "id": "zps8acin_2FF"
      },
      "outputs": [],
      "source": [
        "def print_images(imgs, *, n_cols=None, fig_dim=None):\n",
        "    if isinstance(imgs, np.ndarray):\n",
        "        imgs = [imgs]\n",
        "    num_imgs = len(imgs)\n",
        "    if num_imgs == 1:\n",
        "        n_rows, n_cols = 1, 1\n",
        "        fig_dim = fig_dim or 5\n",
        "    else:\n",
        "        n_cols = n_cols or min(num_imgs, 3)\n",
        "        n_rows = ceil(num_imgs / n_cols)\n",
        "        fig_dim = fig_dim or 15\n",
        "    figsize = (fig_dim, fig_dim / n_cols * n_rows)\n",
        "\n",
        "    fig, axes = plt.subplots(n_rows, n_cols, figsize=figsize)\n",
        "    axes = np.atleast_1d(axes).flatten()\n",
        "    for ax, img in zip(axes, imgs):\n",
        "        ax.imshow(img, cmap='gray' if img.ndim == 2 else None, interpolation='none')\n",
        "        ax.axis('off')\n",
        "    for ax in axes[num_imgs:]:\n",
        "        ax.axis('off')\n",
        "\n",
        "    plt.tight_layout()\n",
        "    plt.show()"
      ]
    },
    {
      "cell_type": "code",
      "execution_count": null,
      "metadata": {
        "colab": {
          "base_uri": "https://localhost:8080/"
        },
        "id": "xk9SLsn1_2FG",
        "outputId": "e7c1db57-3251-4a17-e70f-0dca08b903e6"
      },
      "outputs": [
        {
          "output_type": "execute_result",
          "data": {
            "text/plain": [
              "(1016, 1024, 4)"
            ]
          },
          "metadata": {},
          "execution_count": 3
        }
      ],
      "source": [
        "img = (imread('binary.png'))\n",
        "img.shape"
      ]
    },
    {
      "cell_type": "code",
      "source": [
        "from skimage.color import rgb2gray\n",
        "\n",
        "img_rgb = img[:, :, :3]\n",
        "img_gray = rgb2gray(img_rgb)\n",
        "threshold = 0.5\n",
        "img_binary = img_gray > threshold\n",
        "print_images(img_binary)"
      ],
      "metadata": {
        "colab": {
          "base_uri": "https://localhost:8080/",
          "height": 503
        },
        "id": "8dCqbtDvAoKA",
        "outputId": "012f77b4-b2a3-4d2e-9db6-94db58b079b5"
      },
      "execution_count": null,
      "outputs": [
        {
          "output_type": "display_data",
          "data": {
            "text/plain": [
              "<Figure size 500x500 with 1 Axes>"
            ],
            "image/png": "[encoded data removed]"
          },
          "metadata": {}
        }
      ]
    },
    {
      "cell_type": "code",
      "source": [
        "c = np.array([1] * 3 + [0] * 5, dtype=bool)\n",
        "perm = [0, 1, 2, 7, 8, 3, 6, 5, 4]\n",
        "struct_miss = []\n",
        "for i in range(8):\n",
        "    rolled = np.roll(c, i)\n",
        "    extended = np.concatenate((rolled, [False]))\n",
        "    permuted = extended[perm]\n",
        "    struct_miss.append(permuted.reshape(3, 3))\n",
        "struct_miss = np.array(struct_miss)\n",
        "struct_hit = np.roll(struct_miss, 4, axis=0)\n",
        "struct_hit[:, 1, 1] = 1\n",
        "struct_hit[1::2, ::2, ::2] = 0\n",
        "struct_hit = struct_hit.astype(bool)\n",
        "\n",
        "fig, axes = plt.subplots(1, 8, figsize=(15, 5))\n",
        "for i, ax in enumerate(axes):\n",
        "    ax.imshow(struct_hit[i], cmap='gray', interpolation='nearest')\n",
        "    ax.axis('off')\n",
        "    ax.set_title(f\"Step {i + 1}\")\n",
        "\n",
        "plt.tight_layout()\n",
        "plt.show()\n"
      ],
      "metadata": {
        "colab": {
          "base_uri": "https://localhost:8080/",
          "height": 229
        },
        "id": "3im4oPzIB3NW",
        "outputId": "a2276ee2-a026-4ac7-d8be-e56a6ec18c26"
      },
      "execution_count": null,
      "outputs": [
        {
          "output_type": "display_data",
          "data": {
            "text/plain": [
              "<Figure size 1500x500 with 8 Axes>"
            ],
            "image/png": "[encoded data removed]"
          },
          "metadata": {}
        }
      ]
    },
    {
      "cell_type": "code",
      "source": [
        "def hit_and_miss(img, hit, miss):\n",
        "    \"\"\"Perform hit-and-miss transform.\"\"\"\n",
        "    img_hit = binary_erosion(img, hit)\n",
        "    img_miss = binary_erosion(invert(img), miss)\n",
        "    return img * invert(img_hit * img_miss)\n",
        "\n",
        "def thin_step(img, struct_hit, struct_miss):\n",
        "    \"\"\"Perform a thinning step using hit-and-miss transform.\"\"\"\n",
        "    for hit, miss in zip(struct_hit, struct_miss):\n",
        "        img = hit_and_miss(img, hit, miss)\n",
        "    return img\n",
        "\n",
        "def skeletonize(img, struct_hit, struct_miss):\n",
        "    \"\"\"Perform skeletonization by iteratively applying thinning steps.\"\"\"\n",
        "    prev_img = np.zeros_like(img)\n",
        "    while not np.array_equal(img, prev_img):\n",
        "        prev_img = img.copy()\n",
        "        img = thin_step(img, struct_hit, struct_miss)\n",
        "    return img"
      ],
      "metadata": {
        "id": "wteIMtjXClpo"
      },
      "execution_count": null,
      "outputs": []
    },
    {
      "cell_type": "code",
      "execution_count": null,
      "metadata": {
        "colab": {
          "base_uri": "https://localhost:8080/",
          "height": 503
        },
        "id": "S5GEyy8g_2FI",
        "outputId": "48e95d0b-ece8-484a-bbf1-e4ba610d19ca"
      },
      "outputs": [
        {
          "output_type": "display_data",
          "data": {
            "text/plain": [
              "<Figure size 500x500 with 1 Axes>"
            ],
            "image/png": "[encoded data removed]"
          },
          "metadata": {}
        }
      ],
      "source": [
        "skeleton = skeletonize(img_binary, struct_hit, struct_miss)\n",
        "print_images(skeleton)\n",
        "imsave('skeleton-thin.png', skeleton)"
      ]
    }
  ],
  "metadata": {
    "kernelspec": {
      "display_name": "Python 3",
      "language": "python",
      "name": "python3"
    },
    "language_info": {
      "codemirror_mode": {
        "name": "ipython",
        "version": 3
      },
      "file_extension": ".py",
      "mimetype": "text/x-python",
      "name": "python",
      "nbconvert_exporter": "python",
      "pygments_lexer": "ipython3",
      "version": "3.5.2"
    },
    "colab": {
      "provenance": []
    }
  },
  "nbformat": 4,
  "nbformat_minor": 0
}