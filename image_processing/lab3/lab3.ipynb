{
  "cells": [
    {
      "cell_type": "markdown",
      "metadata": {
        "id": "wxF4TDSuFg6l"
      },
      "source": [
        "# Лабораторная работа 3\n",
        "\n",
        "## Построение выпуклой оболочки\n",
        "\n",
        "Разработать программу построения выпуклой оболочки бинарного объекта на основе преобразований утолщения.\n",
        "\n",
        "Содержание отчета:\n",
        "- Исходные изображения\n",
        "- Код программы (для Jupyter Notebook)\n",
        "- Результат работы программы\n",
        "- Срок: 15.03.2025"
      ]
    },
    {
      "cell_type": "code",
      "execution_count": 120,
      "metadata": {
        "colab": {
          "base_uri": "https://localhost:8080/"
        },
        "id": "arh2p82cFg6j",
        "outputId": "dd1cad2d-6dbf-4c34-f574-016828191ea2"
      },
      "outputs": [
        {
          "output_type": "stream",
          "name": "stdout",
          "text": [
            "Populating the interactive namespace from numpy and matplotlib\n"
          ]
        }
      ],
      "source": [
        "%pylab inline\n",
        "import skimage.io\n",
        "from matplotlib.pyplot import imread\n",
        "from matplotlib.pyplot import imsave\n",
        "import matplotlib.pyplot as plt\n",
        "import numpy as np\n",
        "from math import ceil\n",
        "\n",
        "from scipy.ndimage import binary_erosion, binary_dilation"
      ]
    },
    {
      "cell_type": "code",
      "execution_count": null,
      "metadata": {
        "id": "JfN8crqcFg6q"
      },
      "outputs": [],
      "source": [
        "def print_images(imgs, *, n_cols=None, fig_dim=None):\n",
        "    if isinstance(imgs, np.ndarray):\n",
        "        imgs = [imgs]\n",
        "    num_imgs = len(imgs)\n",
        "    if num_imgs == 1:\n",
        "        n_rows, n_cols = 1, 1\n",
        "        fig_dim = fig_dim or 5\n",
        "    else:\n",
        "        n_cols = n_cols or min(num_imgs, 3)\n",
        "        n_rows = ceil(num_imgs / n_cols)\n",
        "        fig_dim = fig_dim or 15\n",
        "    figsize = (fig_dim, fig_dim / n_cols * n_rows)\n",
        "\n",
        "    fig, axes = plt.subplots(n_rows, n_cols, figsize=figsize)\n",
        "    axes = np.atleast_1d(axes).flatten()\n",
        "    for ax, img in zip(axes, imgs):\n",
        "        ax.imshow(img, cmap='gray' if img.ndim == 2 else None, interpolation='none')\n",
        "        ax.axis('off')\n",
        "    for ax in axes[num_imgs:]:\n",
        "        ax.axis('off')\n",
        "\n",
        "    plt.tight_layout()\n",
        "    plt.show()"
      ]
    },
    {
      "cell_type": "code",
      "execution_count": 117,
      "metadata": {
        "id": "tmTJmcdrFg6r",
        "colab": {
          "base_uri": "https://localhost:8080/",
          "height": 440
        },
        "outputId": "7f3feaec-2285-45ea-8b57-1b5fd1af61ca"
      },
      "outputs": [
        {
          "output_type": "display_data",
          "data": {
            "text/plain": [
              "<Figure size 500x500 with 1 Axes>"
            ],
            "image/png": "[encoded data removed]"
          },
          "metadata": {}
        }
      ],
      "source": [
        "img = (imread('binary.png') > 0.5)\n",
        "if len(img.shape) == 3:\n",
        "    img = img[:, :, 0]\n",
        "print_images(img)"
      ]
    },
    {
      "cell_type": "code",
      "source": [
        "c = np.array([1] * 4 + [0] * 4, dtype=bool)\n",
        "perm = [0, 1, 2, 7, 8, 3, 6, 5, 4]\n",
        "struct_hit = np.array([np.concatenate((np.roll(c, i), [False]))[perm].reshape((3, 3)) for i in range(8)])\n",
        "struct_miss = np.zeros(9, dtype=bool).reshape(3, 3)\n",
        "struct_miss[1, 1] = 1\n",
        "\n",
        "fig, axes = plt.subplots(1, 8, figsize=(15, 5))\n",
        "for i, ax in enumerate(axes):\n",
        "    ax.imshow(struct_hit[i], cmap='gray', interpolation='nearest')\n",
        "    ax.axis('off')\n",
        "    ax.set_title(f\"Step {i + 1}\")\n",
        "\n",
        "plt.tight_layout()\n",
        "plt.show()\n"
      ],
      "metadata": {
        "colab": {
          "base_uri": "https://localhost:8080/",
          "height": 229
        },
        "id": "171C9S8rN6uw",
        "outputId": "816848cd-7236-415c-d321-ec2f029cecf3"
      },
      "execution_count": null,
      "outputs": [
        {
          "output_type": "display_data",
          "data": {
            "text/plain": [
              "<Figure size 1500x500 with 8 Axes>"
            ],
            "image/png": "[encoded data removed]"
          },
          "metadata": {}
        }
      ]
    },
    {
      "cell_type": "code",
      "execution_count": null,
      "metadata": {
        "id": "H58yjD3_Fg6t"
      },
      "outputs": [],
      "source": [
        "from numpy import  invert\n",
        "\n",
        "def thicken(img, hit, miss):\n",
        "    \"\"\"Applies the hit-and-miss transform to thicken the image.\"\"\"\n",
        "    img_hit = binary_erosion(img, hit)\n",
        "    img_miss = binary_erosion(invert(img), miss)\n",
        "    return np.clip(img + img_hit * img_miss, 0, 1)\n",
        "\n",
        "def thick_step(img, struct_hit, struct_miss):\n",
        "    \"\"\"Performs a single thinning step with all structuring elements.\"\"\"\n",
        "    for hit in struct_hit:\n",
        "        img = thicken(img, hit, struct_miss)\n",
        "    return img\n",
        "\n",
        "def convexize(img, struct_hit, struct_miss):\n",
        "    \"\"\"Repeatedly applies thickening steps until convergence.\"\"\"\n",
        "    prev_img = np.zeros_like(img)\n",
        "    while not np.array_equal(img, prev_img):\n",
        "        prev_img = img.copy()\n",
        "        img = thick_step(img, struct_hit, struct_miss)\n",
        "    return img\n"
      ]
    },
    {
      "cell_type": "code",
      "source": [
        "convex = convexize(img, struct_hit, struct_miss)\n",
        "print_images(convex)\n",
        "imsave('skeleton-thick.png', convex)"
      ],
      "metadata": {
        "colab": {
          "base_uri": "https://localhost:8080/",
          "height": 440
        },
        "id": "39GZp82VMNXd",
        "outputId": "31c4ae8b-69d0-4fc5-d6ed-be2b1971745e"
      },
      "execution_count": null,
      "outputs": [
        {
          "output_type": "display_data",
          "data": {
            "text/plain": [
              "<Figure size 500x500 with 1 Axes>"
            ],
            "image/png": "[encoded data removed]"
          },
          "metadata": {}
        }
      ]
    }
  ],
  "metadata": {
    "kernelspec": {
      "display_name": "Python 3",
      "language": "python",
      "name": "python3"
    },
    "language_info": {
      "codemirror_mode": {
        "name": "ipython",
        "version": 3
      },
      "file_extension": ".py",
      "mimetype": "text/x-python",
      "name": "python",
      "nbconvert_exporter": "python",
      "pygments_lexer": "ipython3",
      "version": "3.5.2"
    },
    "colab": {
      "provenance": []
    }
  },
  "nbformat": 4,
  "nbformat_minor": 0
}