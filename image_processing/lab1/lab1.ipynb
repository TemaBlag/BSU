{
  "cells": [
    {
      "cell_type": "markdown",
      "metadata": {
        "id": "czpKNspJrNPC"
      },
      "source": [
        "# Лабораторная работа 1\n",
        "\n",
        "## Построение морфологического скелета\n",
        "\n",
        "Разработать программу построения морфологического скелета изображения и восстановления изображения по морфологическому скелету для бинарных изображений и различных структурирующих элементов.\n",
        "\n",
        "Содержание отчета:\n",
        "- Исходные изображения\n",
        "- Код программы (для Jupyter Notebook)\n",
        "- Результат работы программы\n",
        "- Срок: 15.03.2025\n"
      ]
    },
    {
      "cell_type": "code",
      "execution_count": 17,
      "metadata": {
        "colab": {
          "base_uri": "https://localhost:8080/"
        },
        "id": "IOqtOQMurNPB",
        "outputId": "0e71fc73-0ad8-4e66-d517-884f34e2b00b"
      },
      "outputs": [
        {
          "output_type": "stream",
          "name": "stdout",
          "text": [
            "Populating the interactive namespace from numpy and matplotlib\n"
          ]
        }
      ],
      "source": [
        "%pylab inline\n",
        "import skimage.io\n",
        "import matplotlib.pyplot as plt\n",
        "from matplotlib.pyplot import imread\n",
        "import numpy as np\n",
        "from math import ceil\n",
        "\n",
        "from scipy.ndimage import binary_erosion, binary_dilation"
      ]
    },
    {
      "cell_type": "code",
      "source": [
        "import numpy as np\n",
        "import matplotlib.pyplot as plt\n",
        "from math import ceil\n",
        "\n",
        "def print_images(imgs, *, n_cols=None, fig_dim=None):\n",
        "    if isinstance(imgs, np.ndarray):\n",
        "        imgs = [imgs]\n",
        "    num_imgs = len(imgs)\n",
        "    if num_imgs == 1:\n",
        "        n_rows, n_cols = 1, 1\n",
        "        fig_dim = fig_dim or 5\n",
        "    else:\n",
        "        n_cols = n_cols or min(num_imgs, 3)\n",
        "        n_rows = ceil(num_imgs / n_cols)\n",
        "        fig_dim = fig_dim or 15\n",
        "    figsize = (fig_dim, fig_dim / n_cols * n_rows)\n",
        "\n",
        "    fig, axes = plt.subplots(n_rows, n_cols, figsize=figsize)\n",
        "    axes = np.atleast_1d(axes).flatten()\n",
        "    for ax, img in zip(axes, imgs):\n",
        "        ax.imshow(img, cmap='gray' if img.ndim == 2 else None, interpolation='none')\n",
        "        ax.axis('off')\n",
        "    for ax in axes[num_imgs:]:\n",
        "        ax.axis('off')\n",
        "\n",
        "    plt.tight_layout()\n",
        "    plt.show()"
      ],
      "metadata": {
        "id": "8RGtwBtctS3b"
      },
      "execution_count": 27,
      "outputs": []
    },
    {
      "cell_type": "code",
      "source": [
        "img = (imread('binary.png'))\n",
        "img.shape"
      ],
      "metadata": {
        "colab": {
          "base_uri": "https://localhost:8080/"
        },
        "id": "aVYn9UPL0o7g",
        "outputId": "e6a24bf4-813a-4885-c426-a5d88d238e2c"
      },
      "execution_count": 72,
      "outputs": [
        {
          "output_type": "execute_result",
          "data": {
            "text/plain": [
              "(688, 1000, 4)"
            ]
          },
          "metadata": {},
          "execution_count": 72
        }
      ]
    },
    {
      "cell_type": "code",
      "source": [
        "import numpy as np\n",
        "import matplotlib.pyplot as plt\n",
        "from skimage.color import rgb2gray\n",
        "\n",
        "img_rgb = img[:, :, :3]\n",
        "img_gray = rgb2gray(img_rgb)\n",
        "threshold = 0.5\n",
        "img_binary = img_gray > threshold\n",
        "print_images(img_binary)\n"
      ],
      "metadata": {
        "colab": {
          "base_uri": "https://localhost:8080/",
          "height": 360
        },
        "id": "_UI1ILn20YVx",
        "outputId": "704d605e-e318-4ee4-8ee7-01577559a1cd"
      },
      "execution_count": 73,
      "outputs": [
        {
          "output_type": "display_data",
          "data": {
            "text/plain": [
              "<Figure size 500x500 with 1 Axes>"
            ],
            "image/png": "[encoded data removed]"
          },
          "metadata": {}
        }
      ]
    },
    {
      "cell_type": "code",
      "source": [
        "# creating structuring element\n",
        "r = 3 # radius\n",
        "x, y = np.meshgrid(np.arange(-r, r + 1), np.arange(-r, r + 1))\n",
        "struct_el = (np.hypot(x, y) <= r).astype(bool)"
      ],
      "metadata": {
        "id": "7qhQiG6ax8-j"
      },
      "execution_count": 74,
      "outputs": []
    },
    {
      "cell_type": "code",
      "source": [
        "struct_el"
      ],
      "metadata": {
        "colab": {
          "base_uri": "https://localhost:8080/"
        },
        "id": "WczRKtmJyPj5",
        "outputId": "42dfc52c-177c-4ccc-e5b8-83e3335697dd"
      },
      "execution_count": 75,
      "outputs": [
        {
          "output_type": "execute_result",
          "data": {
            "text/plain": [
              "array([[False, False, False,  True, False, False, False],\n",
              "       [False,  True,  True,  True,  True,  True, False],\n",
              "       [False,  True,  True,  True,  True,  True, False],\n",
              "       [ True,  True,  True,  True,  True,  True,  True],\n",
              "       [False,  True,  True,  True,  True,  True, False],\n",
              "       [False,  True,  True,  True,  True,  True, False],\n",
              "       [False, False, False,  True, False, False, False]])"
            ]
          },
          "metadata": {},
          "execution_count": 75
        }
      ]
    },
    {
      "cell_type": "code",
      "execution_count": 76,
      "metadata": {
        "colab": {
          "base_uri": "https://localhost:8080/",
          "height": 207
        },
        "id": "BCQiqUFSrNPJ",
        "outputId": "5fca8e48-65eb-472a-ad71-82b5b5739c27"
      },
      "outputs": [
        {
          "output_type": "display_data",
          "data": {
            "text/plain": [
              "<Figure size 200x200 with 1 Axes>"
            ],
            "image/png": "[encoded data removed]"
          },
          "metadata": {}
        }
      ],
      "source": [
        "print_images(struct_el, fig_dim=2)"
      ]
    },
    {
      "cell_type": "code",
      "execution_count": 79,
      "metadata": {
        "id": "VyMJgyhMrNPK"
      },
      "outputs": [],
      "source": [
        "def build_skeleton(img, struct_el, return_steps=True):\n",
        "    img = img.astype(bool)\n",
        "    struct_el = struct_el.astype(bool)\n",
        "    img = img.copy()\n",
        "    if return_steps:\n",
        "        steps = []\n",
        "    else:\n",
        "        skeleton = zeros_like(img, dtype=bool)\n",
        "    while True:\n",
        "        img_e = binary_erosion(img, structure=struct_el)\n",
        "        if not(img_e.any()):\n",
        "            break\n",
        "        img_ed = binary_dilation(img_e, structure=struct_el)\n",
        "        diff = img * invert(img_ed)\n",
        "        if return_steps:\n",
        "            steps.append(diff)\n",
        "        else:\n",
        "            skeleton += diff\n",
        "        img = img_e\n",
        "    if return_steps:\n",
        "        steps.append(img)\n",
        "        return steps\n",
        "    else:\n",
        "        return skeleton\n",
        "\n",
        "def combine_steps(steps):\n",
        "    return apply_along_axis(any, axis=0, array=array(steps))\n",
        "\n",
        "def reconstruct_steps(steps, struct_el):\n",
        "    result = np.zeros_like(steps[0])\n",
        "    for step in reversed(steps):\n",
        "        result = binary_dilation(result, struct_el) + step\n",
        "    return(result)"
      ]
    },
    {
      "cell_type": "code",
      "execution_count": 81,
      "metadata": {
        "colab": {
          "base_uri": "https://localhost:8080/",
          "height": 360
        },
        "id": "1-7hktGvrNPK",
        "outputId": "e51e1406-2c1d-4479-fdc9-f5ab0fe4d779"
      },
      "outputs": [
        {
          "output_type": "display_data",
          "data": {
            "text/plain": [
              "<Figure size 500x500 with 1 Axes>"
            ],
            "image/png": "[encoded data removed]"
          },
          "metadata": {}
        }
      ],
      "source": [
        "skeleton = build_skeleton(img_binary, struct_el, return_steps=False)\n",
        "print_images(skeleton)\n",
        "imsave('skeleton.png', skeleton)"
      ]
    },
    {
      "cell_type": "code",
      "execution_count": 84,
      "metadata": {
        "colab": {
          "base_uri": "https://localhost:8080/",
          "height": 377
        },
        "id": "JtYBhvQ2rNPL",
        "outputId": "a62337c4-9a32-41aa-e1e8-bd9eb4ce6334"
      },
      "outputs": [
        {
          "output_type": "display_data",
          "data": {
            "text/plain": [
              "<Figure size 500x500 with 1 Axes>"
            ],
            "image/png": "[encoded data removed]"
          },
          "metadata": {}
        },
        {
          "output_type": "stream",
          "name": "stdout",
          "text": [
            "The original and reconstructed images match successfully.\n"
          ]
        }
      ],
      "source": [
        "img_sr = reconstruct_steps(build_skeleton(img_binary, struct_el), struct_el)\n",
        "print_images(img_sr)\n",
        "if np.any(img_binary != img_sr):\n",
        "    print('There seems to be a mismatch between the original and reconstructed images.')\n",
        "else:\n",
        "    print('The original and reconstructed images match successfully.')"
      ]
    }
  ],
  "metadata": {
    "kernelspec": {
      "display_name": "Python 3",
      "language": "python",
      "name": "python3"
    },
    "language_info": {
      "codemirror_mode": {
        "name": "ipython",
        "version": 3
      },
      "file_extension": ".py",
      "mimetype": "text/x-python",
      "name": "python",
      "nbconvert_exporter": "python",
      "pygments_lexer": "ipython3",
      "version": "3.5.2"
    },
    "colab": {
      "provenance": []
    }
  },
  "nbformat": 4,
  "nbformat_minor": 0
}