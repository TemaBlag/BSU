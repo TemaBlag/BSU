{
  "nbformat": 4,
  "nbformat_minor": 0,
  "metadata": {
    "colab": {
      "provenance": []
    },
    "kernelspec": {
      "name": "python3",
      "display_name": "Python 3"
    },
    "language_info": {
      "name": "python"
    }
  },
  "cells": [
    {
      "cell_type": "markdown",
      "source": [
        "# **BIOPYTHON.4**"
      ],
      "metadata": {
        "id": "N1HD1YtsMKZu"
      }
    },
    {
      "cell_type": "markdown",
      "source": [
        "## **ВЫРАВНИВАНИЕ ПОСЛЕДОВАТЕЛЬНОСТЕЙ**"
      ],
      "metadata": {
        "id": "lX2k-WlqMLnc"
      }
    },
    {
      "cell_type": "markdown",
      "source": [
        "В данной практической работе мы будем выравнивать последовательности.\n",
        "\n",
        "[ТЕОРИЯ](https://sites.google.com/view/bioinfbsu/%D0%BB%D0%B5%D0%BA%D1%86%D0%B8%D0%B8/5-biopython-%D0%B2%D1%8B%D1%80%D0%B0%D0%B2%D0%BD%D0%B8%D0%B2%D0%B0%D0%BD%D0%B8%D0%B5?authuser=0)\n",
        "\n",
        "**ОЦЕНИВАНИЕ:**\n",
        "\n",
        "Задание 1. 6 БАЛЛОВ\n",
        "\n",
        "Задание 2. 9 БАЛЛОВ\n",
        "\n",
        "Задание 3. 10 БАЛЛОВ"
      ],
      "metadata": {
        "id": "h7ztj79EMR6W"
      }
    },
    {
      "cell_type": "markdown",
      "source": [
        "## **ЗАДАНИЕ 1. Парное выравнивание последовательности**"
      ],
      "metadata": {
        "id": "IrylEUTfPjKc"
      }
    },
    {
      "cell_type": "markdown",
      "source": [
        "**Попарное выравнивание последовательностей** сравнивает только две последовательности одновременно и обеспечивает наилучшие возможные выравнивания последовательностей. Различают *глобальное* и *локальное выравнивание*. Глобальное выравнивание предполагает, что последовательности гомологичны(схожие последовательности, имеющие общее происхождение) по всей длине. В глобальное выравнивание включаются обе входные последовательности целиком. Локальное выравнивание применяется, если последовательности содержат как родственные (гомологичные), так и неродственные участки. Результатом локального выравнивания является выбор участка в каждой из последовательностей и выравнивание между этими участками.\n",
        "\n",
        "Biopython предоставляет специальный модуль **Bio.pairwise2** для попарного выравнивания последлвательностей с использованием метода динамического программирования.\n",
        "\n",
        "Напишем пример, чтобы найти парное выравнивание двух простых последовательностей ДНК с использованием pairwise2 модуля. Это поможет нам понять концепцию выравнивания последовательностей и как ее запрограммировать с помощью Biopython."
      ],
      "metadata": {
        "id": "y5BuOM9ZPtfz"
      }
    },
    {
      "cell_type": "markdown",
      "source": [
        "Импортируйте модуль **pairwise2** с помощью команды, приведенной ниже –"
      ],
      "metadata": {
        "id": "dQxeYsByQeSf"
      }
    },
    {
      "cell_type": "code",
      "source": [
        "!pip install Bio"
      ],
      "metadata": {
        "id": "MW3ODyeFMS0S"
      },
      "execution_count": null,
      "outputs": []
    },
    {
      "cell_type": "code",
      "source": [
        "from Bio import pairwise2"
      ],
      "metadata": {
        "colab": {
          "base_uri": "https://localhost:8080/"
        },
        "id": "BRf0LzanQkSx",
        "outputId": "6a38bd3d-aba9-4afb-bdda-ac4335fb8f22"
      },
      "execution_count": 2,
      "outputs": [
        {
          "output_type": "stream",
          "name": "stderr",
          "text": [
            "/usr/local/lib/python3.10/dist-packages/Bio/pairwise2.py:278: BiopythonDeprecationWarning: Bio.pairwise2 has been deprecated, and we intend to remove it in a future release of Biopython. As an alternative, please consider using Bio.Align.PairwiseAligner as a replacement, and contact the Biopython developers if you still need the Bio.pairwise2 module.\n",
            "  warnings.warn(\n"
          ]
        }
      ]
    },
    {
      "cell_type": "code",
      "source": [
        "from Bio.Align import PairwiseAligner"
      ],
      "metadata": {
        "id": "DUD7H8TuQ33w"
      },
      "execution_count": 3,
      "outputs": []
    },
    {
      "cell_type": "markdown",
      "source": [
        "Создайте две последовательности, seq1 и seq2 –"
      ],
      "metadata": {
        "id": "PohC4D7PQmF9"
      }
    },
    {
      "cell_type": "code",
      "source": [
        "from Bio.Seq import Seq\n",
        "seq1 = Seq(\"ACCGGT\")\n",
        "seq2 = Seq(\"ACGT\")"
      ],
      "metadata": {
        "id": "wblL-E1TQoG4"
      },
      "execution_count": 4,
      "outputs": []
    },
    {
      "cell_type": "markdown",
      "source": [
        "Вызовите метод pairwise2.align.globalxx вместе с seq1 и seq2, чтобы найти выравнивания, используя строку кода ниже –"
      ],
      "metadata": {
        "id": "StrGz0BURIuo"
      }
    },
    {
      "cell_type": "code",
      "source": [
        "aligner = PairwiseAligner()\n",
        "aligner.mode = 'global'  # Глобальное выравнивание (аналог globalxx)\n",
        "alignments = aligner.align(seq1, seq2)"
      ],
      "metadata": {
        "id": "qmJoBOuaRWOA"
      },
      "execution_count": 6,
      "outputs": []
    },
    {
      "cell_type": "code",
      "source": [
        "alignments = pairwise2.align.globalxx(seq1, seq2)"
      ],
      "metadata": {
        "id": "v23UO_gsRK84"
      },
      "execution_count": 20,
      "outputs": []
    },
    {
      "cell_type": "markdown",
      "source": [
        "Здесь метод **globalxx** находит все наилучшие возможные выравнивания в заданных последовательностях. На самом деле, Bio.pairwise2 предоставляет целый набор методов, которые следуют приведенному ниже соглашению, чтобы найти выравнивания в различных сценариях."
      ],
      "metadata": {
        "id": "zD1gmItRROAl"
      }
    },
    {
      "cell_type": "code",
      "source": [
        "alignments"
      ],
      "metadata": {
        "colab": {
          "base_uri": "https://localhost:8080/"
        },
        "id": "YP93Y-fZRtk8",
        "outputId": "1b6ad971-e8e6-403e-ee11-ee7ae3edd393"
      },
      "execution_count": 21,
      "outputs": [
        {
          "output_type": "execute_result",
          "data": {
            "text/plain": [
              "[Alignment(seqA='ACCGGT', seqB='A-C-GT', score=4.0, start=0, end=6),\n",
              " Alignment(seqA='ACCGGT', seqB='AC--GT', score=4.0, start=0, end=6),\n",
              " Alignment(seqA='ACCGGT', seqB='A-CG-T', score=4.0, start=0, end=6),\n",
              " Alignment(seqA='ACCGGT', seqB='AC-G-T', score=4.0, start=0, end=6)]"
            ]
          },
          "metadata": {},
          "execution_count": 21
        }
      ]
    },
    {
      "cell_type": "markdown",
      "source": [
        "`<sequence alignment type>XY`\n",
        "\n",
        "Здесь тип выравнивания последовательности относится к типу выравнивания, который может быть *глобальным* или *локальным*. *Глобальный* тип находит выравнивание последовательности, принимая во внимание всю последовательность. *Локальный* тип находит выравнивание последовательностей, просматривая также подмножество заданных последовательностей. Это будет утомительно, но дает лучшее представление о сходстве данных последовательностей.\n",
        "\n",
        "- Х относится к совпадению баллов. Возможные значения: x (точное совпадение), m (оценка, основанная на одинаковых символах), d (пользовательский словарь с символом и счетом совпадения) и, наконец, c (определенная пользователем функция для предоставления собственного алгоритма оценки).\n",
        "\n",
        "- Y относится к штрафу за разрыв. Возможные значения: x (без штрафных санкций), s (одинаковые штрафы для обеих последовательностей), d (разные штрафы для каждой последовательности) и, наконец, c (пользовательская функция для предоставления пользовательских штрафов за пропуск)\n",
        "\n",
        "Таким образом, localds также является допустимым методом, который находит выравнивание последовательности, используя технику локального выравнивания, пользовательский словарь для совпадений и пользовательский штраф за пробел для обеих последовательностей."
      ],
      "metadata": {
        "id": "MJAm5RmdSjb0"
      }
    },
    {
      "cell_type": "code",
      "source": [
        "from Bio.Align import substitution_matrices # матрица замен, используемая для оценки схожести\n",
        "BLOSUM62 = substitution_matrices.load(\"BLOSUM62\") # статистическую вероятность замены одной аминокислоты на другую\n",
        "test_alignments = pairwise2.align.localds(seq1, seq2, BLOSUM62, -10, -1)"
      ],
      "metadata": {
        "id": "xiuxMz8cTDvf"
      },
      "execution_count": 22,
      "outputs": []
    },
    {
      "cell_type": "markdown",
      "source": [
        "Здесь BLOSUM62 относится к словарю, доступному в модуле pairwise2, для обеспечения соответствия. -10 относится к штрафу за открытие пропуска, а -1 относится к штрафу за расширение пропуска.\n",
        "\n",
        "Зациклите итеративный объект выравнивания и получите каждый отдельный объект выравнивания и распечатайте его."
      ],
      "metadata": {
        "id": "Evc28SO1Twys"
      }
    },
    {
      "cell_type": "code",
      "source": [
        "for alignment in alignments:\n",
        "    print(alignment)"
      ],
      "metadata": {
        "colab": {
          "base_uri": "https://localhost:8080/"
        },
        "id": "41qIALHQT22e",
        "outputId": "1844b1de-9d5b-4b86-ddf2-8e93aed092f8"
      },
      "execution_count": 23,
      "outputs": [
        {
          "output_type": "stream",
          "name": "stdout",
          "text": [
            "Alignment(seqA='ACCGGT', seqB='A-C-GT', score=4.0, start=0, end=6)\n",
            "Alignment(seqA='ACCGGT', seqB='AC--GT', score=4.0, start=0, end=6)\n",
            "Alignment(seqA='ACCGGT', seqB='A-CG-T', score=4.0, start=0, end=6)\n",
            "Alignment(seqA='ACCGGT', seqB='AC-G-T', score=4.0, start=0, end=6)\n"
          ]
        }
      ]
    },
    {
      "cell_type": "markdown",
      "source": [
        "Модуль Bio.pairwise2 предоставляет метод форматирования format_alignment для лучшей визуализации результата –"
      ],
      "metadata": {
        "id": "7CvDR6oJT9EG"
      }
    },
    {
      "cell_type": "code",
      "source": [
        "from Bio.pairwise2 import format_alignment\n",
        "alignments = pairwise2.align.globalxx(seq1, seq2)\n",
        "for alignment in alignments:\n",
        "    print(format_alignment(*alignment))"
      ],
      "metadata": {
        "colab": {
          "base_uri": "https://localhost:8080/"
        },
        "id": "m_gsPU7sT_Kb",
        "outputId": "1e9ef35b-5c7c-49af-af14-07b5fbe9a248"
      },
      "execution_count": 24,
      "outputs": [
        {
          "output_type": "stream",
          "name": "stdout",
          "text": [
            "ACCGGT\n",
            "| | ||\n",
            "A-C-GT\n",
            "  Score=4\n",
            "\n",
            "ACCGGT\n",
            "||  ||\n",
            "AC--GT\n",
            "  Score=4\n",
            "\n",
            "ACCGGT\n",
            "| || |\n",
            "A-CG-T\n",
            "  Score=4\n",
            "\n",
            "ACCGGT\n",
            "|| | |\n",
            "AC-G-T\n",
            "  Score=4\n",
            "\n"
          ]
        }
      ]
    },
    {
      "cell_type": "markdown",
      "source": [
        "Biopython также предоставляет другой модуль для выравнивания последовательностей, Align. Этот модуль предоставляет другой набор API для простой установки параметров, таких как алгоритм, режим, оценка совпадения, штрафы за пропуски и т. Д. Простой взгляд на объект Align выглядит следующим образом:"
      ],
      "metadata": {
        "id": "NXAIa8lFUHgs"
      }
    },
    {
      "cell_type": "code",
      "source": [
        "from Bio import Align\n",
        "aligner = Align.PairwiseAligner()\n",
        "print(aligner)"
      ],
      "metadata": {
        "colab": {
          "base_uri": "https://localhost:8080/"
        },
        "id": "gzw4x1O9UI9m",
        "outputId": "8351a353-b3f2-4607-c230-80602d598750"
      },
      "execution_count": 25,
      "outputs": [
        {
          "output_type": "stream",
          "name": "stdout",
          "text": [
            "Pairwise sequence aligner with parameters\n",
            "  wildcard: None\n",
            "  match_score: 1.000000\n",
            "  mismatch_score: 0.000000\n",
            "  target_internal_open_gap_score: 0.000000\n",
            "  target_internal_extend_gap_score: 0.000000\n",
            "  target_left_open_gap_score: 0.000000\n",
            "  target_left_extend_gap_score: 0.000000\n",
            "  target_right_open_gap_score: 0.000000\n",
            "  target_right_extend_gap_score: 0.000000\n",
            "  query_internal_open_gap_score: 0.000000\n",
            "  query_internal_extend_gap_score: 0.000000\n",
            "  query_left_open_gap_score: 0.000000\n",
            "  query_left_extend_gap_score: 0.000000\n",
            "  query_right_open_gap_score: 0.000000\n",
            "  query_right_extend_gap_score: 0.000000\n",
            "  mode: global\n",
            "\n"
          ]
        }
      ]
    },
    {
      "cell_type": "markdown",
      "source": [
        "## **ЗАДАНИЕ 2. Поддержка инструментов выравнивания последовательностей**"
      ],
      "metadata": {
        "id": "mNgiXu577Db-"
      }
    },
    {
      "cell_type": "markdown",
      "source": [
        "Biopython предоставляет интерфейс для многих инструментов выравнивания последовательностей через модуль Bio.Align.Applications. Некоторые из инструментов перечислены ниже –\n",
        "\n",
        "- ClustalW\n",
        "\n",
        "- MUSCLE\n",
        "\n",
        "- EMBOSS Needle и вода\n",
        "\n",
        "Давайте напишем простой пример в Biopython для создания выравнивания последовательностей с помощью самого популярного инструмента выравнивания ClustalW.\n",
        "\n",
        "Загрузите программу Clustalw с http://www.clustal.org/download/current/ и установите ее. Также обновите системный PATH, указав путь установки «clustal».\n",
        "\n",
        "Импортируйте ClustalwCommanLine из модуля Bio.Align.Applications."
      ],
      "metadata": {
        "id": "1S-czjLz7UUp"
      }
    },
    {
      "cell_type": "code",
      "source": [
        "# Эти команды загружают и устанавливают ClustalW 2.1 в Google Colab\n",
        "# !wget http://www.clustal.org/download/current/clustalw-2.1-linux-x86_64-libcppstatic.tar.gz\n",
        "# !tar -xzf clustalw-2.1-linux-x86_64-libcppstatic.tar.gz\n",
        "# !cp clustalw-2.1-linux-x86_64-libcppstatic/clustalw2 /usr/local/bin/"
      ],
      "metadata": {
        "id": "tenIYI81FyKP"
      },
      "execution_count": 12,
      "outputs": []
    },
    {
      "cell_type": "code",
      "source": [
        "!apt-get update\n",
        "!apt-get install -y clustalw"
      ],
      "metadata": {
        "id": "96VdbrQgG5Qk"
      },
      "execution_count": null,
      "outputs": []
    },
    {
      "cell_type": "code",
      "source": [
        "!clustalw --help"
      ],
      "metadata": {
        "colab": {
          "base_uri": "https://localhost:8080/"
        },
        "id": "LLX0Ku8YG2cI",
        "outputId": "199a7ccd-e7f3-4b0b-ef49-736b491e90fa"
      },
      "execution_count": 14,
      "outputs": [
        {
          "output_type": "stream",
          "name": "stdout",
          "text": [
            "\n",
            "\n",
            "\n",
            " CLUSTAL 2.1 Multiple Sequence Alignments\n",
            "\n",
            "\n",
            "Error: unknown option --help\n"
          ]
        }
      ]
    },
    {
      "cell_type": "code",
      "source": [
        "from Bio.Align.Applications import ClustalwCommandline"
      ],
      "metadata": {
        "colab": {
          "base_uri": "https://localhost:8080/"
        },
        "id": "wBGUJ3B-CAyc",
        "outputId": "dee8714b-6e35-44dc-9004-983ff8d8ac72"
      },
      "execution_count": 15,
      "outputs": [
        {
          "output_type": "stream",
          "name": "stderr",
          "text": [
            "/usr/local/lib/python3.10/dist-packages/Bio/Application/__init__.py:39: BiopythonDeprecationWarning: The Bio.Application modules and modules relying on it have been deprecated.\n",
            "\n",
            "Due to the on going maintenance burden of keeping command line application\n",
            "wrappers up to date, we have decided to deprecate and eventually remove these\n",
            "modules.\n",
            "\n",
            "We instead now recommend building your command line and invoking it directly\n",
            "with the subprocess module.\n",
            "  warnings.warn(\n"
          ]
        }
      ]
    },
    {
      "cell_type": "markdown",
      "source": [
        "Вызов cmd () запустит команду clustalw и выдаст выходной файл результирующего выравнивания opuntia.aln."
      ],
      "metadata": {
        "id": "SJ3Lxz_4CfGe"
      }
    },
    {
      "cell_type": "code",
      "source": [
        "path = \"opuntia.fasta\""
      ],
      "metadata": {
        "id": "MI28jngRK-Kq"
      },
      "execution_count": 16,
      "outputs": []
    },
    {
      "cell_type": "code",
      "source": [
        "cmd = ClustalwCommandline(\"clustalw\", infile=path)\n",
        "print(cmd)"
      ],
      "metadata": {
        "colab": {
          "base_uri": "https://localhost:8080/"
        },
        "id": "WoXOEPDaCLTO",
        "outputId": "f86abf60-17ed-48d9-9f49-1688863bfece"
      },
      "execution_count": 17,
      "outputs": [
        {
          "output_type": "stream",
          "name": "stdout",
          "text": [
            "clustalw -infile=opuntia.fasta\n"
          ]
        }
      ]
    },
    {
      "cell_type": "markdown",
      "source": [
        "Установите cmd, вызвав ClustalwCommanLine с входным файлом, opuntia.fasta, доступным в пакете Biopython."
      ],
      "metadata": {
        "id": "Wvnt6C5_CI3-"
      }
    },
    {
      "cell_type": "code",
      "source": [
        "stdout, stderr = cmd()"
      ],
      "metadata": {
        "id": "KjGr3g_ULaGl"
      },
      "execution_count": 18,
      "outputs": []
    },
    {
      "cell_type": "markdown",
      "source": [
        "Прочитайте и распечатайте файл выравнивания."
      ],
      "metadata": {
        "id": "XwndDWQ5Cx1p"
      }
    },
    {
      "cell_type": "code",
      "source": [
        "print(stdout)"
      ],
      "metadata": {
        "colab": {
          "base_uri": "https://localhost:8080/"
        },
        "id": "TW6iM7qGLvRV",
        "outputId": "f4da2c41-d828-4beb-c6c3-8c6d62b8c7b2"
      },
      "execution_count": 19,
      "outputs": [
        {
          "output_type": "stream",
          "name": "stdout",
          "text": [
            "\n",
            "\n",
            "\n",
            " CLUSTAL 2.1 Multiple Sequence Alignments\n",
            "\n",
            "\n",
            "Sequence format is Pearson\n",
            "Sequence 1: gi|6273291|gb|AF191665.1|AF191665   902 bp\n",
            "Sequence 2: gi|6273290|gb|AF191664.1|AF191664   899 bp\n",
            "Sequence 3: gi|6273289|gb|AF191663.1|AF191663   899 bp\n",
            "Sequence 4: gi|6273287|gb|AF191661.1|AF191661   895 bp\n",
            "Sequence 5: gi|6273286|gb|AF191660.1|AF191660   893 bp\n",
            "Sequence 6: gi|6273285|gb|AF191659.1|AF191659   894 bp\n",
            "Sequence 7: gi|6273284|gb|AF191658.1|AF191658   896 bp\n",
            "Start of Pairwise alignments\n",
            "Aligning...\n",
            "\n",
            "Sequences (1:2) Aligned. Score:  99\n",
            "Sequences (1:3) Aligned. Score:  99\n",
            "Sequences (1:4) Aligned. Score:  98\n",
            "Sequences (1:5) Aligned. Score:  98\n",
            "Sequences (1:6) Aligned. Score:  98\n",
            "Sequences (1:7) Aligned. Score:  98\n",
            "Sequences (2:3) Aligned. Score:  99\n",
            "Sequences (2:4) Aligned. Score:  98\n",
            "Sequences (2:5) Aligned. Score:  98\n",
            "Sequences (2:6) Aligned. Score:  98\n",
            "Sequences (2:7) Aligned. Score:  98\n",
            "Sequences (3:4) Aligned. Score:  98\n",
            "Sequences (3:5) Aligned. Score:  98\n",
            "Sequences (3:6) Aligned. Score:  98\n",
            "Sequences (3:7) Aligned. Score:  98\n",
            "Sequences (4:5) Aligned. Score:  99\n",
            "Sequences (4:6) Aligned. Score:  99\n",
            "Sequences (4:7) Aligned. Score:  99\n",
            "Sequences (5:6) Aligned. Score:  99\n",
            "Sequences (5:7) Aligned. Score:  99\n",
            "Sequences (6:7) Aligned. Score:  99\n",
            "Guide tree file created:   [opuntia.dnd]\n",
            "\n",
            "There are 6 groups\n",
            "Start of Multiple Alignment\n",
            "\n",
            "Aligning...\n",
            "Group 1: Sequences:   2      Score:16933\n",
            "Group 2: Sequences:   2      Score:16703\n",
            "Group 3: Sequences:   4      Score:16812\n",
            "Group 4: Sequences:   2      Score:17071\n",
            "Group 5: Sequences:   3      Score:16845\n",
            "Group 6: Sequences:   7      Score:16678\n",
            "Alignment Score 114256\n",
            "\n",
            "CLUSTAL-Alignment file created  [opuntia.aln]\n",
            "\n",
            "\n"
          ]
        }
      ]
    },
    {
      "cell_type": "markdown",
      "source": [
        "## **ЗАДАНИЕ 3. Поддержка инструментов выравнивания последовательностей**"
      ],
      "metadata": {
        "id": "_N4YC-5dL_Ke"
      }
    },
    {
      "cell_type": "markdown",
      "source": [
        "Сделаем выравнивае с помощью MUSCLE"
      ],
      "metadata": {
        "id": "qc5Xzrh2Pj9J"
      }
    },
    {
      "cell_type": "code",
      "source": [
        "!apt-get install muscle"
      ],
      "metadata": {
        "id": "8vqClcWSPtAU"
      },
      "execution_count": null,
      "outputs": []
    },
    {
      "cell_type": "code",
      "source": [
        "from Bio.Align.Applications import MuscleCommandline\n",
        "from Bio import AlignIO\n",
        "\n",
        "input_file = path\n",
        "output_file = \"output.fasta\"\n",
        "\n",
        "# Создаём команду для вызова MUSCLE\n",
        "muscle_cline = MuscleCommandline(input=input_file, out=output_file)\n",
        "stdout, stderr = muscle_cline()\n",
        "\n",
        "# Считываем выровненные последовательности\n",
        "alignment = AlignIO.read(output_file, \"fasta\")\n",
        "\n",
        "# Печатаем выровненные последовательности\n",
        "print(\"Выравненные последовательности:\")\n",
        "for record in alignment:\n",
        "    print(record.id)\n",
        "    print(record.seq)"
      ],
      "metadata": {
        "colab": {
          "base_uri": "https://localhost:8080/"
        },
        "id": "uLe_eFm2QEsw",
        "outputId": "3579e277-dddf-4b58-cfd5-e2e9c42d9dfb"
      },
      "execution_count": 29,
      "outputs": [
        {
          "output_type": "stream",
          "name": "stdout",
          "text": [
            "Выравненные последовательности:\n",
            "gi|6273289|gb|AF191663.1|AF191663\n",
            "TATACATTAAAGGAGGGGGATGCGGATAAATGGAAAGGCGAAAGAAAGAAAAAAATGAATCTAAATGATATAGGATTCCACTATGTAAGGTCTTTGAATCATATCATAAAAGACAATGTAATAAAGCATGAATACAGATTCACACATAATTATCTGATATGAATCTATTCATAGAAAAAAGAAAAAAGTAAGAGCCTCCGGCCAATAAAGACTAAGAGGGTTGGCTCAAGAACAAAGTTCATTAAGAGCTCCATTGTAGAATTCAGACCTAATCATTAATCAAGAAGCGATGGGAACGATGTAATCCATGAATACAGAAGATTCAATTGAAAAAGATCCTAATGATTCATTGGGAAGGATGGCGGAACGAACCAGAGACCAATTCATCTATTCTGAAAAGTGATAAACTAATCCTATAAAACTAAAATAGATATTGAAAGAGTAAATATTCGCCCGCGAAAATTCC-TTTTTTATTAAATTGCTCATATTTTCTTTTAGCAATGCAATCTAATAAAATATATCTATACAAAAAAACATAGACAAAC------TATATATATATATAATATATTTCAAATTCCCTTATATATCCAAATATAAAAATATCTAATAAATTAGATGAATATCAAAGAATCTATTGATTTAGTATATTATTAAATGTATATATTAATTCAATATTATTATTCTATTCATTTTTATTCATTTTCAAATTTATAATATATTAATCTATATATTAATTTAGAATTCTATTCTAATTCGAATTCAATTTTTAAATATTCATATTCAATTAAAATTGAAATTTTTTCATTCGCGAGGAGCCGGATGAGAAGAAACTCTCATGTCCGGTTCTGTAGTAGAGATGGAATTAAGAAAAAACCATCAACTATAACCCCAAAAGAACCAGA\n",
            "gi|6273291|gb|AF191665.1|AF191665\n",
            "TATACATTAAAGGAGGGGGATGCGGATAAATGGAAAGGCGAAAGAAAGAAAAAAATGAATCTAAATGATATAGGATTCCACTATGTAAGGTCTTTGAATCATATCATAAAAGACAATGTAATAAAGCATGAATACAGATTCACACATAATTATCTGATATGAATCTATTCATAGAAAAAAGAAAAAAGTAAGAGCCTCCGGCCAATAAAGACTAAGAGGGTTGGCTCAAGAACAAAGTTCATTAAGAGCTCCATTGTAGAATTCAGACCTAATCATTAATCAAGAAGCGATGGGAACGATGTAATCCATGAATACAGAAGATTCAATTGAAAAAGATCCTA-TGNT-CATT-GGAAGGATGGCGGAACGAACCAGAGACCAATTCATCTATTCTGAAAAGTGATAAACTAATCCTATAAAACTAAAATAGATATTGAAAGAGTAAATATTCGCCCGCGAAAATTCC-TTTTTTATTAAATTGCTCATATTTTCTTTTAGCAATGCAATCTAATAAAATATATCTATACAAAAAAACATAGACAAACTATATATATATATATATATAATATATTTCAAATTCCCTTATATATCCAAATATAAAAATATCTAATAAATTAGATGAATATCAAAGAATCTATTGATTTAGTGTATTATTAAATGTATATATTAATTCAATATTATTATTCTATTCATTTTTATTCATTTTCAAATTTATAATATATTAATCTATATATTAATTTAGAATTCTATTCTAATTCGAATTCAATTTTTAAATATTCATATTCAATTAAAATTGAAATTTTTTCATTCGCGAGGAGCCGGATGAGAAGAAACTCTCATGTCCGGTTCTGTAGTAGAGATGGAATTAAGAAAAAACCATCAACTATAACCCCAAAAGAACCAGA\n",
            "gi|6273290|gb|AF191664.1|AF191664\n",
            "TATACATTAAAGGAGGGGGATGCGGATAAATGGAAAGGCGAAAGAAAGAAAAAAATGAATCTAAATGATATAGGATTCCACTATGTAAGGTCTTTGAATCATATCATAAAAGACAATGTAATAAAGCATGAATACAGATTCACACATAATTATCTGATATGAATCTATTCATAGAAAAAAGAAAAAAGTAAGAGCCTCCGGCCAATAAAGACTAAGAGGGTTGGCTCAAGAACAAAGTTCATTAAGAGCTCCATTGTAGAATTCAGACCTAATCATTAATCAAGAAGCGATGGGAACGATGTAATCCATGAATACAGAAGATTCAATTGAAAAAGATCCTAATGNTNCATTGGGAAGGATGGCGGAACGAACCAGAGACCAATTCATCTATTCTGAAAAGTGATAAACTAATCCTATAAAACTAAAATAGATATTGAAAGAGTAAATATTCGCCCGCGAAAATTCC-TTTTTTATTAAATTGCTCATATTTTCTTTTAGCAATGCAATCTAATAAAATATATCTATACAAAAAAACATAGACAAAC------TATATATATATATAATATATTTCAAATTCCCTTATATATCCAAATATAAAAATATCTAATAAATTAGATGAATATCAAAGAATCTATTGATTTAGTGTATTATTAAATGTATATATTAATTCAATATTATTATTCTATTCATTTTTATTCATTTTCAAATTTATAATATATTAATCTATATATTAATTTAGAATTCTATTCTAATTCGAATTCAATTTTTAAATATTCATATTCAATTAAAATTGAAATTTTTTCATTCGCGAGGAGCCGGATGAGAAGAAACTCTCATGTCCGGTTCTGTAGTAGAGATGGAATTAAGAAAAAACCATCAACTATAACCCCAAAAGAACCAGA\n",
            "gi|6273287|gb|AF191661.1|AF191661\n",
            "TATACATTAAAGAAGGGGGATGCGGATAAATGGAAAGGCGAAAGAAAGAAAAAAATGAATCTAAATGATATACGATTCCACTATGTAAGGTCTTTGAATCATATCATAAAAGACAATGTAATAAAGCATGAATACAGATTCACACATAATTATCTGATATGAATCTATTCATAGAAAAAAGAAAAAAGTAAGAGCCTCCGGCCAATAAAGACTAAGAGGGTTGGCTCAAGAACAAAGTTCATTAAGAGCTCCATTGTAGAATTCAGACCTAATCATTAATCAAGAAGCGATGGGAACGATGTAATCCATGAATACAGAAGATTCAATTGAAAAAGATCCTA-TGATCCATTGGGAAGGATGGCGGAACGAACCAGAGACCAATTCATCTATTCTGAAAAGTGATAAACTAATCCTATAAAACTAAAATAGATATTGAAAGAGTAAATATTCGCCCGCGAAAATTCCTTTTTTTTTTAAATTGCTCATATTTTATTTTAGCAATGCAATCTAATAAAATATATCTATACAAAAAAATAAAGACAAAC----------TATATATATAATATATTTCAAATTTCCTTATATATCCAAATATAAAAATATCTAATAAATTAGATGAATATCAAAGAATCTATTGATTTAGTGTATTATTAAATGTATATCTTAATTCAATATTATTATTCTATTCATTTTTATTCATTTTCAATTTTATAATATATTAATCTATATATTAATTTATAATTCTATTCTAATTCGAATTCAATTTTTAAATATTCATATTCAATTAAAATTGAAATTTTTTCATTCGCGAGGAGCCGGATGAGAAGAAACTCTCATGTCCGGTTCTGTAGTAGAGATGGAATTAAGAAAAAACCATCAACTATAACCCCAAGAGAACCAGA\n",
            "gi|6273286|gb|AF191660.1|AF191660\n",
            "TATACATAAAAGAAGGGGGATGCGGATAAATGGAAAGGCGAAAGAAAGAAAAAAATGAATCTAAATGATATACGATTCCACTATGTAAGGTCTTTGAATCATATCATAAAAGACAATGTAATAAAGCATGAATACAGATTCACACATAATTATCTGATATGAATCTATTCATAGAAAAAAGAAAAAAGTAAGAGCCTCCGGCCAATAAAGACTAAGAGGGTTGGCTCAAGAACAAAGTTCATTAAGAGCTCCATTGTAGAATTCAGACCTAATCATTAATCAAGAAGCGATGGGAACGATGTAATCCATGAATACAGAAGATTCAATTGAAAAAGATCCTAATGAT-CATT-GGAAGGATGGCGGAACGAACCAGAGACCAATTCATCTATTCTGAAAAGTGATAAACTAATCCTATAAAACTAAAATAGATATTGAAAGAGTAAATATTCGCCCGCGAAAATTCC-TTTTTTATTAAATTGCTCATATTTTATTTTAGCAATGCAATCTAATAAAATATATCTATACAAAAAAATATAGACAAAC----------TATATATATAATATATTTATAATTTCCTTATATATCCAAATATAAAAATATCTAATAAATTAGATGAATATCAAAGAATCTATTGATTTAGTGTATTATTAAATGTATATCTTAATTCAATATTATTATTCTATTCATTTTTATTCATTTTCAAATTTATAATATATTAATCTATATATTAATTTATAATTCTATTCTAATTCGAATTCAATTTTTAAATATTCATATTCAATTAAAATTGAAATTTTTTCATTCGCGAGGAGCCGGATGAGAAGAAACTCTCATGTCCGGTTCTGTAGTAGAGATGGAATTAAGAAAAAACCATCAACTATAACCCCAAGAGAACCAGA\n",
            "gi|6273285|gb|AF191659.1|AF191659\n",
            "TATACATTAAAGAAGGGGGATGCGGATAAATGGAAAGGCGAAAGAAAGAAAAAAATGAATCTAAATGATATACGATTCCACTATGTAAGGTCTTTGAATCATATCATAAAAGACAATGTAATAAAGCATGAATACAGATTCACACATAATTATCTGATATGAATCTATTCATAGAAAAAAGAAAAAAGTAAGAGCCTCCGGCCAATAAAGACTAAGAGGGTTGGCTCAAGAACAAAGTTCATTAAGAGCTCCATTGTAGAATTCAGACCTAATCATTAATCAAGAAGCGATGGGAACGATGTAATCCATGAATACAGAAGATTCAATTGAAAAAGATCCTAATGAT-CATTGGGAAGGATGGCGGAACGAACCAGAGACCAATTCATCTATTCTGAAAAGTGATAAACTAATCCTATAAAACTAAAATAGATATTGAAAGAGTAAATATTCGCCCGCGAAAATTCC-TTTTTTATTAAATTGCTCATATTTTATTTTAGCAATGCAATCTAATAAAATATATCTATACAAAAAAATATAGACAAAC----------TATATATATAATATATTTCAAATTTCCTTATATACCCAAATATAAAAATATCTAATAAATTAGATGAATATCAAAGAATCCATTGATTTAGTGTATTATTAAATGTATATCTTAATTCAATATTATTATTCTATTCATTTTTATTCATTTTCAAATTTATAATATATTAATCTATATATTAATTTATAATTCTATTCTAATTCGAATTCAATTTTTAAATATTCATATTCAATTAAAATTGAAATTTTTTCATTCGCGAGGAGCCGGATGAGAAGAAACTCTCATGTCCGGTTCTGTAGTAGAGATGGAATTAAGAAAAAACCATCAACTATAACCCCAAGAGAACCAGA\n",
            "gi|6273284|gb|AF191658.1|AF191658\n",
            "TATACATTAAAGAAGGGGGATGCGGATAAATGGAAAGGCGAAAGAAAGAAAAAAATGAATCTAAATGATATACGATTCCACTATGTAAGGTCTTTGAATCATATCATAAAAGACAATGTAATAAAGCATGAATACAGATTCACACATAATTATCTGATATGAATCTATTCATAGAAAAAAGAAAAAAGTAAGAGCCTCCGGCCAATAAAGACTAAGAGGGTTGGCTCAAGAACAAAGTTCATTAAGAGCTCCATTGTAGAATTCAGACCTAATCATTAATCAAGAAGCGATGGGAACGATGTAATCCATGAATACAGAAGATTCAATTGAAAAAGATCCTAATGAT-CATTGGGAAGGATGGCGGAACGAACCAGAGACCAATTCATCTATTCTGAAAAGTGATAAACTAATCCTATAAAACTAAAATAGATATTGAAAGAGTAAATATTCGCCCGCGAAAATTCC-TTTTTTATTAAATTGCTCATATTTTATTTTAGCAATGCAATCTAATAAAATATATCTATACAAAAAAATATAGACAAAC--------TATATATATATAATATATTTCAAATTTCCTTATATACCCAAATATAAAAATATCTAATAAATTAGATGAATATCAAAGAATCTATTGATTTAGTGTATTATTAAATGTATATCTTAATTCAATATTATTATTCTATTCATTTTTATTCATTTTCAAATTTATAATATATTAATCTATATATTAATTTATAATTCTATTCTAATTCGAATTCAATTTTTAAATATTCATATTCAATTAAAATTGAAATTTTTTCATTCGCGAGGAGCCGGATGAGAAGAAACTCTCATGTCCGGTTCTGTAGTAGAGATGGAATTAAGAAAAAACCATCAACTATAACCCCAAGAGAACCAGA\n"
          ]
        }
      ]
    }
  ]
}