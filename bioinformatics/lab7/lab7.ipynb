{
  "nbformat": 4,
  "nbformat_minor": 0,
  "metadata": {
    "colab": {
      "provenance": []
    },
    "kernelspec": {
      "name": "python3",
      "display_name": "Python 3"
    },
    "language_info": {
      "name": "python"
    }
  },
  "cells": [
    {
      "cell_type": "markdown",
      "source": [
        "# **BLAST**"
      ],
      "metadata": {
        "id": "Toa-zXUPSDmr"
      }
    },
    {
      "cell_type": "markdown",
      "source": [
        "**1. Глобальное выравнивание (Global Alignment)**\n",
        "\n",
        "**Глобальное выравнивание** — это метод выравнивания, который пытается выровнять все символы двух последовательностей с начала до конца, предполагая, что последовательности имеют одинаковую длину (или их длины можно привести к одинаковой с помощью вставок). Этот метод ищет наилучшее соответствие между двумя последовательностями по всей их длине, игнорируя возможность пропуска части последовательности.\n",
        "\n",
        "**2. Локальное выравнивание (Local Alignment)**\n",
        "\n",
        "**Локальное выравнивание** — это метод, который ищет и выравнивает наилучшую часть двух последовательностей. Он не пытается выровнять всю последовательность, а фокусируется на нахождении наиболее схожих фрагментов в пределах этих последовательностей. Локальное выравнивание используется, когда необходимо найти области схожести между двумя последовательностями, которые могут значительно отличаться по длине."
      ],
      "metadata": {
        "id": "L0sWNtrBSMp_"
      }
    },
    {
      "cell_type": "markdown",
      "source": [
        "BLAST расшифровывается как **Basic Local Alignment Search Tool** . Он находит области сходства между биологическими последовательностями. Biopython предоставляет модуль Bio.Blast для работы с NCBI BLAST. Вы можете запустить BLAST в локальном или интернет-соединении. BLAST был разработан (*David Lipman, Stephen Altschul, Warren Gish, ...*) на базе *National Center for Biotechnology Information (NCBI)*.\n",
        "\n",
        "Biopython предоставляет модуль Bio.Blast.NCBIWWW для вызова онлайн-версии BLAST. Для этого нам нужно импортировать следующий модуль :"
      ],
      "metadata": {
        "id": "mZteDCPHTS9T"
      }
    },
    {
      "cell_type": "code",
      "source": [
        "!pip install Bio"
      ],
      "metadata": {
        "id": "NCms2hYtTfV9"
      },
      "execution_count": null,
      "outputs": []
    },
    {
      "cell_type": "code",
      "execution_count": 2,
      "metadata": {
        "id": "La-R0XUhR-FW"
      },
      "outputs": [],
      "source": [
        "from Bio.Blast import NCBIWWW"
      ]
    },
    {
      "cell_type": "markdown",
      "source": [
        "Модуль NCBIWW предоставляет функцию qblast для запроса онлайн-версии BLAST. qblast поддерживает все параметры, поддерживаемые онлайн-версией.\n",
        "\n",
        "Чтобы получить какую-либо справку об этом модуле, используйте приведенную ниже команду и посмотрите описание функции :"
      ],
      "metadata": {
        "id": "3D6_bvS6TmHv"
      }
    },
    {
      "cell_type": "code",
      "source": [
        "help(NCBIWWW.qblast)"
      ],
      "metadata": {
        "colab": {
          "base_uri": "https://localhost:8080/"
        },
        "id": "nfGXNM6jTk01",
        "outputId": "525f5dac-078d-46f5-ebb8-e0100a5f5669"
      },
      "execution_count": 3,
      "outputs": [
        {
          "output_type": "stream",
          "name": "stdout",
          "text": [
            "Help on function qblast in module Bio.Blast.NCBIWWW:\n",
            "\n",
            "qblast(program, database, sequence, url_base='https://blast.ncbi.nlm.nih.gov/Blast.cgi', auto_format=None, composition_based_statistics=None, db_genetic_code=None, endpoints=None, entrez_query='(none)', expect=10.0, filter=None, gapcosts=None, genetic_code=None, hitlist_size=50, i_thresh=None, layout=None, lcase_mask=None, matrix_name=None, nucl_penalty=None, nucl_reward=None, other_advanced=None, perc_ident=None, phi_pattern=None, query_file=None, query_believe_defline=None, query_from=None, query_to=None, searchsp_eff=None, service=None, threshold=None, ungapped_alignment=None, word_size=None, short_query=None, alignments=500, alignment_view=None, descriptions=500, entrez_links_new_window=None, expect_low=None, expect_high=None, format_entrez_query=None, format_object=None, format_type='XML', ncbi_gi=None, results_file=None, show_overview=None, megablast=None, template_type=None, template_length=None, username='blast', password=None)\n",
            "    BLAST search using NCBI's QBLAST server or a cloud service provider.\n",
            "    \n",
            "    Supports all parameters of the old qblast API for Put and Get.\n",
            "    \n",
            "    Please note that NCBI uses the new Common URL API for BLAST searches\n",
            "    on the internet (http://ncbi.github.io/blast-cloud/dev/api.html). Thus,\n",
            "    some of the parameters used by this function are not (or are no longer)\n",
            "    officially supported by NCBI. Although they are still functioning, this\n",
            "    may change in the future.\n",
            "    \n",
            "    The Common URL API (http://ncbi.github.io/blast-cloud/dev/api.html) allows\n",
            "    doing BLAST searches on cloud servers. To use this feature, please set\n",
            "    ``url_base='http://host.my.cloud.service.provider.com/cgi-bin/blast.cgi'``\n",
            "    and ``format_object='Alignment'``. For more details, please see\n",
            "    https://blast.ncbi.nlm.nih.gov/Blast.cgi?PAGE_TYPE=BlastDocs&DOC_TYPE=CloudBlast\n",
            "    \n",
            "    Some useful parameters:\n",
            "    \n",
            "     - program        blastn, blastp, blastx, tblastn, or tblastx (lower case)\n",
            "     - database       Which database to search against (e.g. \"nr\").\n",
            "     - sequence       The sequence to search.\n",
            "     - ncbi_gi        TRUE/FALSE whether to give 'gi' identifier.\n",
            "     - descriptions   Number of descriptions to show.  Def 500.\n",
            "     - alignments     Number of alignments to show.  Def 500.\n",
            "     - expect         An expect value cutoff.  Def 10.0.\n",
            "     - matrix_name    Specify an alt. matrix (PAM30, PAM70, BLOSUM80, BLOSUM45).\n",
            "     - filter         \"none\" turns off filtering.  Default no filtering\n",
            "     - format_type    \"HTML\", \"Text\", \"ASN.1\", or \"XML\".  Def. \"XML\".\n",
            "     - entrez_query   Entrez query to limit Blast search\n",
            "     - hitlist_size   Number of hits to return. Default 50\n",
            "     - megablast      TRUE/FALSE whether to use MEga BLAST algorithm (blastn only)\n",
            "     - short_query    TRUE/FALSE whether to adjust the search parameters for a\n",
            "                      short query sequence. Note that this will override\n",
            "                      manually set parameters like word size and e value. Turns\n",
            "                      off when sequence length is > 30 residues. Default: None.\n",
            "     - service        plain, psi, phi, rpsblast, megablast (lower case)\n",
            "    \n",
            "    This function does no checking of the validity of the parameters\n",
            "    and passes the values to the server as is.  More help is available at:\n",
            "    https://ncbi.github.io/blast-cloud/dev/api.html\n",
            "\n"
          ]
        }
      ]
    },
    {
      "cell_type": "markdown",
      "source": [
        "Приведите другой(ие) способы посмотреть описание функции."
      ],
      "metadata": {
        "id": "dsKcOJObT1nD"
      }
    },
    {
      "cell_type": "code",
      "source": [
        "NCBIWWW.qblast?"
      ],
      "metadata": {
        "id": "EubDVeRdT4F8"
      },
      "execution_count": 4,
      "outputs": []
    },
    {
      "cell_type": "code",
      "source": [
        "dir(NCBIWWW)"
      ],
      "metadata": {
        "colab": {
          "base_uri": "https://localhost:8080/"
        },
        "id": "F2hnMiroUJ9I",
        "outputId": "debfa704-e93d-43d4-e67f-be41f494b0b9"
      },
      "execution_count": 10,
      "outputs": [
        {
          "output_type": "execute_result",
          "data": {
            "text/plain": [
              "['BiopythonWarning',\n",
              " 'HTTPBasicAuthHandler',\n",
              " 'HTTPPasswordMgrWithDefaultRealm',\n",
              " 'NCBI_BLAST_URL',\n",
              " 'Request',\n",
              " 'StringIO',\n",
              " '__builtins__',\n",
              " '__cached__',\n",
              " '__doc__',\n",
              " '__file__',\n",
              " '__loader__',\n",
              " '__name__',\n",
              " '__package__',\n",
              " '__spec__',\n",
              " '_parse_qblast_ref_page',\n",
              " 'build_opener',\n",
              " 'email',\n",
              " 'function_with_previous',\n",
              " 'install_opener',\n",
              " 'qblast',\n",
              " 'time',\n",
              " 'tool',\n",
              " 'urlencode',\n",
              " 'urlopen',\n",
              " 'warnings']"
            ]
          },
          "metadata": {},
          "execution_count": 10
        }
      ]
    },
    {
      "cell_type": "code",
      "source": [
        "dir(NCBIWWW.qblast)"
      ],
      "metadata": {
        "colab": {
          "base_uri": "https://localhost:8080/"
        },
        "id": "s8qleEKbT7Jj",
        "outputId": "edd826e0-bdfa-40dc-b931-5912d1ea9220"
      },
      "execution_count": 8,
      "outputs": [
        {
          "output_type": "execute_result",
          "data": {
            "text/plain": [
              "['__annotations__',\n",
              " '__builtins__',\n",
              " '__call__',\n",
              " '__class__',\n",
              " '__closure__',\n",
              " '__code__',\n",
              " '__defaults__',\n",
              " '__delattr__',\n",
              " '__dict__',\n",
              " '__dir__',\n",
              " '__doc__',\n",
              " '__eq__',\n",
              " '__format__',\n",
              " '__ge__',\n",
              " '__get__',\n",
              " '__getattribute__',\n",
              " '__globals__',\n",
              " '__gt__',\n",
              " '__hash__',\n",
              " '__init__',\n",
              " '__init_subclass__',\n",
              " '__kwdefaults__',\n",
              " '__le__',\n",
              " '__lt__',\n",
              " '__module__',\n",
              " '__name__',\n",
              " '__ne__',\n",
              " '__new__',\n",
              " '__qualname__',\n",
              " '__reduce__',\n",
              " '__reduce_ex__',\n",
              " '__repr__',\n",
              " '__setattr__',\n",
              " '__sizeof__',\n",
              " '__str__',\n",
              " '__subclasshook__',\n",
              " 'previous']"
            ]
          },
          "metadata": {},
          "execution_count": 8
        }
      ]
    },
    {
      "cell_type": "markdown",
      "source": [
        "Обычно аргументы функции qblast в основном аналогичны различным параметрам, которые вы можете установить на веб-странице BLAST. Это облегчает понимание функции qblast."
      ],
      "metadata": {
        "id": "GIOEJe49UOHN"
      }
    },
    {
      "cell_type": "markdown",
      "source": [
        "## **ЗАДАНИЕ**"
      ],
      "metadata": {
        "id": "X_V7qMXgUWdF"
      }
    },
    {
      "cell_type": "markdown",
      "source": [
        "**ЗАДАЧА** : Выполнить поиск последовательностей на онлайн-сервере BLAST через Biopython.\n",
        "\n",
        "**ОЦЕНИВАНИЕ** : 9 баллов"
      ],
      "metadata": {
        "id": "Xit6LauvUZVb"
      }
    },
    {
      "cell_type": "markdown",
      "source": [
        "## **ШАГ 1**"
      ],
      "metadata": {
        "id": "3k4Wz7NfUcj9"
      }
    },
    {
      "cell_type": "markdown",
      "source": [
        "Создайте файл с именем **blast_example.fasta** в каталоге Biopython и передайте приведенную ниже информацию о последовательности в качестве входных данных."
      ],
      "metadata": {
        "id": "iTEOteG_UgOt"
      }
    },
    {
      "cell_type": "markdown",
      "source": [
        "Example of a single sequence in FASTA/Pearson format:\n",
        "\n",
        "\\>sequence A\n",
        "\n",
        "ggtaagtcctctagtacaaacacccccaatattgtgatataattaaaattatattcatat\n",
        "\n",
        "tctgttgccagaaaaaacacttttaggctatattagagccatcttctttgaagcgttgtc"
      ],
      "metadata": {
        "id": "jaL_3ZtOUmUx"
      }
    },
    {
      "cell_type": "markdown",
      "source": [
        "## **ШАГ 2**"
      ],
      "metadata": {
        "id": "1uR1wOlBVIra"
      }
    },
    {
      "cell_type": "markdown",
      "source": [
        "Импортируйте модуль NCBIWWW"
      ],
      "metadata": {
        "id": "3Vkg9Ob_VLgj"
      }
    },
    {
      "cell_type": "code",
      "source": [
        "from Bio.Blast import NCBIWWW"
      ],
      "metadata": {
        "id": "xwtXcYv9VMS8"
      },
      "execution_count": 11,
      "outputs": []
    },
    {
      "cell_type": "markdown",
      "source": [
        "## **ШАГ 3**"
      ],
      "metadata": {
        "id": "HCimMSHGVO9B"
      }
    },
    {
      "cell_type": "markdown",
      "source": [
        "Откройте файл последовательности **blast_example.fasta** с помощью модуля ввода-вывода Python."
      ],
      "metadata": {
        "id": "zse2Uz1yVRpp"
      }
    },
    {
      "cell_type": "code",
      "source": [
        "path = \"blast_example.fasta\""
      ],
      "metadata": {
        "id": "dZFeOFNcVWjI"
      },
      "execution_count": 12,
      "outputs": []
    },
    {
      "cell_type": "code",
      "source": [
        "sequence_data = open(path).read()\n",
        "sequence_data"
      ],
      "metadata": {
        "colab": {
          "base_uri": "https://localhost:8080/",
          "height": 35
        },
        "id": "cOiwj_TIVTZ7",
        "outputId": "8f6f36a2-1c60-4870-9713-a3089496ed7c"
      },
      "execution_count": 13,
      "outputs": [
        {
          "output_type": "execute_result",
          "data": {
            "text/plain": [
              "'>sequence A \\nggtaagtcctctagtacaaacacccccaatattgtgatataattaaaattatattcatat\\ntctgttgccagaaaaaacacttttaggctatattagagccatcttctttgaagcgttgtc\\n'"
            ],
            "application/vnd.google.colaboratory.intrinsic+json": {
              "type": "string"
            }
          },
          "metadata": {},
          "execution_count": 13
        }
      ]
    },
    {
      "cell_type": "markdown",
      "source": [
        "## **ШАГ 4**"
      ],
      "metadata": {
        "id": "Zr9AHfTKVcRB"
      }
    },
    {
      "cell_type": "markdown",
      "source": [
        "Теперь вызовите функцию qblast, передавая данные последовательности в качестве основного параметра. Другой параметр представляет базу данных (nt) и внутреннюю программу (blastn)."
      ],
      "metadata": {
        "id": "6BsCZo9NVeqI"
      }
    },
    {
      "cell_type": "code",
      "source": [
        "result_handle = NCBIWWW.qblast(\"blastn\", \"nt\", sequence_data)\n",
        "result_handle"
      ],
      "metadata": {
        "colab": {
          "base_uri": "https://localhost:8080/"
        },
        "id": "XDLwvtC9Vh51",
        "outputId": "492d5800-775c-45a7-e869-9d030d4630b2"
      },
      "execution_count": 14,
      "outputs": [
        {
          "output_type": "execute_result",
          "data": {
            "text/plain": [
              "<_io.StringIO at 0x78712a5e3d00>"
            ]
          },
          "metadata": {},
          "execution_count": 14
        }
      ]
    },
    {
      "cell_type": "markdown",
      "source": [
        "**blast_results** содержит результат нашего поиска. Он может быть сохранен в файл для последующего использования, а также проанализирован для получения подробной информации."
      ],
      "metadata": {
        "id": "pxYRD6HkVfdm"
      }
    },
    {
      "cell_type": "markdown",
      "source": [
        "## **ШАГ 5**"
      ],
      "metadata": {
        "id": "uTOjLwoOVpdI"
      }
    },
    {
      "cell_type": "markdown",
      "source": [
        "Те же функциональные возможности могут быть выполнены с использованием объекта Seq, а не с использованием всего файла fasta, как показано ниже."
      ],
      "metadata": {
        "id": "LSziz2uTVtKr"
      }
    },
    {
      "cell_type": "code",
      "source": [
        "from Bio import SeqIO\n",
        "seq_record = next(SeqIO.parse(open('blast_example.fasta'),'fasta'))\n",
        "print(f\"id: {seq_record.id}, \\n\\\n",
        "seq: {seq_record.seq}\")"
      ],
      "metadata": {
        "colab": {
          "base_uri": "https://localhost:8080/"
        },
        "id": "MmlbCKPfV0ew",
        "outputId": "58f297d8-695e-4c78-b5e1-fb957e2e2cb4"
      },
      "execution_count": 18,
      "outputs": [
        {
          "output_type": "stream",
          "name": "stdout",
          "text": [
            "id: sequence, \n",
            "seq: ggtaagtcctctagtacaaacacccccaatattgtgatataattaaaattatattcatattctgttgccagaaaaaacacttttaggctatattagagccatcttctttgaagcgttgtc\n"
          ]
        }
      ]
    },
    {
      "cell_type": "markdown",
      "source": [
        "Теперь вызовите функцию qblast, передав объект Seq, record.seq в качестве основного параметра."
      ],
      "metadata": {
        "id": "4jHWGG-9Vvpg"
      }
    },
    {
      "cell_type": "code",
      "source": [
        "result_handle = NCBIWWW.qblast(\"blastn\", \"nt\", seq_record.seq)\n",
        "print(result_handle)"
      ],
      "metadata": {
        "colab": {
          "base_uri": "https://localhost:8080/"
        },
        "id": "8Q7C44w8Wjdk",
        "outputId": "7d4fe8c2-eb2e-410f-c49d-6ae25b60f65a"
      },
      "execution_count": 19,
      "outputs": [
        {
          "output_type": "stream",
          "name": "stdout",
          "text": [
            "<_io.StringIO object at 0x78712a37a200>\n"
          ]
        }
      ]
    },
    {
      "cell_type": "markdown",
      "source": [
        "BLAST автоматически назначит идентификатор вашей последовательности."
      ],
      "metadata": {
        "id": "aS5XbO3SVwDC"
      }
    },
    {
      "cell_type": "markdown",
      "source": [
        "## **ШАГ 6**"
      ],
      "metadata": {
        "id": "nPZx6-NpWoZD"
      }
    },
    {
      "cell_type": "markdown",
      "source": [
        "Объект result_handle будет иметь весь результат и может быть сохранен в файл для дальнейшего использования."
      ],
      "metadata": {
        "id": "gHhqg13SWsgO"
      }
    },
    {
      "cell_type": "code",
      "source": [
        "with open('results.xml', 'w') as save_file:\n",
        "    blast_results = result_handle.read()\n",
        "    save_file.write(blast_results)"
      ],
      "metadata": {
        "id": "izPgrKwvWsPl"
      },
      "execution_count": 20,
      "outputs": []
    },
    {
      "cell_type": "markdown",
      "source": [
        "Чтение results.xml с помощью парсера ElementTree"
      ],
      "metadata": {
        "id": "9WT5b4V4XHvR"
      }
    },
    {
      "cell_type": "code",
      "source": [
        "import xml.etree.ElementTree as ET\n",
        "\n",
        "tree = ET.parse('results.xml')\n",
        "root = tree.getroot()\n",
        "\n",
        "# Печать корневого элемента и его атрибутов\n",
        "print(f\"Корневой элемент: {root.tag}\")\n",
        "\n",
        "# Итерация по дочерним элементам\n",
        "for child in root:\n",
        "    print(f\"Тег: {child.tag}, Атрибуты: {child.attrib}, Значение: {child.text}\")\n",
        "\n",
        "# Например, если в XML есть данные с тегом <name>\n",
        "for name in root.findall('.//name'):\n",
        "    print(f\"Name: {name.text}\")"
      ],
      "metadata": {
        "colab": {
          "base_uri": "https://localhost:8080/"
        },
        "id": "xh4aAE-4XDcj",
        "outputId": "3b9a8cd6-21b0-409c-cd2a-e10c5533cb93"
      },
      "execution_count": 21,
      "outputs": [
        {
          "output_type": "stream",
          "name": "stdout",
          "text": [
            "Корневой элемент: BlastOutput\n",
            "Тег: BlastOutput_program, Атрибуты: {}, Значение: blastn\n",
            "Тег: BlastOutput_version, Атрибуты: {}, Значение: BLASTN 2.16.1+\n",
            "Тег: BlastOutput_reference, Атрибуты: {}, Значение: Stephen F. Altschul, Thomas L. Madden, Alejandro A. Sch&auml;ffer, Jinghui Zhang, Zheng Zhang, Webb Miller, and David J. Lipman (1997), \"Gapped BLAST and PSI-BLAST: a new generation of protein database search programs\", Nucleic Acids Res. 25:3389-3402.\n",
            "Тег: BlastOutput_db, Атрибуты: {}, Значение: core_nt\n",
            "Тег: BlastOutput_query-ID, Атрибуты: {}, Значение: Query_2196371\n",
            "Тег: BlastOutput_query-def, Атрибуты: {}, Значение: No definition line\n",
            "Тег: BlastOutput_query-len, Атрибуты: {}, Значение: 120\n",
            "Тег: BlastOutput_param, Атрибуты: {}, Значение: \n",
            "    \n",
            "Тег: BlastOutput_iterations, Атрибуты: {}, Значение: \n",
            "\n"
          ]
        }
      ]
    }
  ]
}