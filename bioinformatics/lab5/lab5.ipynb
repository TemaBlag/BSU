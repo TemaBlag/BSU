{
  "nbformat": 4,
  "nbformat_minor": 0,
  "metadata": {
    "colab": {
      "provenance": []
    },
    "kernelspec": {
      "name": "python3",
      "display_name": "Python 3"
    },
    "language_info": {
      "name": "python"
    }
  },
  "cells": [
    {
      "cell_type": "markdown",
      "source": [
        "## **BIOPYTHON.3 SEQRECORD**"
      ],
      "metadata": {
        "id": "Tbaig-w1EkwO"
      }
    },
    {
      "cell_type": "markdown",
      "source": [
        "Biopython предоставляет модуль Bio.SeqIO для чтения и записи последовательностей из и в файл (любой поток) соответственно. Он поддерживает практически все форматы файлов, доступные в биоинформатике. Большая часть программного обеспечения обеспечивает разный подход для разных форматов файлов. Но Biopython сознательно следует единому подходу, чтобы представить данные проанализированной последовательности пользователю через его объект SeqRecord."
      ],
      "metadata": {
        "id": "Dr13uamDEq5w"
      }
    },
    {
      "cell_type": "markdown",
      "source": [
        "## **SeqRecord**"
      ],
      "metadata": {
        "id": "T6BChFHvEzbo"
      }
    },
    {
      "cell_type": "markdown",
      "source": [
        "Модуль Bio.SeqRecord предоставляет SeqRecord для хранения мета-информации о последовательности, а также о самих данных последовательности, как показано ниже:\n",
        "\n",
        "- *seq* – это фактическая последовательность\n",
        "\n",
        "- *id* – это первичный идентификатор данной последовательности. Тип по умолчанию – строка.\n",
        "\n",
        "- *name* – это имя последовательности. Тип по умолчанию – строка.\n",
        "\n",
        "- *description* – отображает удобочитаемую информацию о последовательности.\n",
        "\n",
        "- *аннотации* – это словарь дополнительной информации о последовательности.\n",
        "\n",
        "*seq* – это фактическая последовательность\n",
        "\n",
        "\n",
        "SeqRecord может быть импортирован как указано ниже :"
      ],
      "metadata": {
        "id": "XS_Mbu5kE2dO"
      }
    },
    {
      "cell_type": "markdown",
      "source": [
        "SeqRecord может быть импортирован как указано ниже :"
      ],
      "metadata": {
        "id": "VSqpU_vQFjYs"
      }
    },
    {
      "cell_type": "code",
      "source": [
        "!pip install Bio"
      ],
      "metadata": {
        "id": "Wmn18rMcFsHH"
      },
      "execution_count": null,
      "outputs": []
    },
    {
      "cell_type": "code",
      "execution_count": 3,
      "metadata": {
        "id": "2ULzY9JlEgc6"
      },
      "outputs": [],
      "source": [
        "from Bio.SeqRecord import SeqRecord"
      ]
    },
    {
      "cell_type": "markdown",
      "source": [
        "**FASTA** – это самый основной формат файла для хранения данных последовательности. Изначально FASTA – это программный пакет для выравнивания последовательностей ДНК и белка, разработанный в начале ранней эволюции биоинформатики и использовавшийся в основном для поиска сходства последовательностей."
      ],
      "metadata": {
        "id": "mRpDG962F0ER"
      }
    },
    {
      "cell_type": "markdown",
      "source": [
        "## **ШАГ 1**"
      ],
      "metadata": {
        "id": "locgqYeBF9Ov"
      }
    },
    {
      "cell_type": "markdown",
      "source": [
        "Biopython предоставляет пример файла FASTA, доступ к которому можно получить по адресу\n",
        "\n",
        "https://github.com/biopython/biopython/blob/master/Doc/examples/ls_orchid.fasta .\n",
        "\n",
        "Загрузите и сохраните этот файл в каталоге образцов Biopython под именем ‘orchid.fasta’ .\n",
        "\n",
        "Модуль Bio.SeqIO предоставляет метод parse () для обработки файлов последовательности и может быть импортирован следующим образом:"
      ],
      "metadata": {
        "id": "y8P49o0NGCq1"
      }
    },
    {
      "cell_type": "code",
      "source": [
        "from Bio.SeqIO import parse"
      ],
      "metadata": {
        "id": "lehnrftJGp-6"
      },
      "execution_count": 4,
      "outputs": []
    },
    {
      "cell_type": "markdown",
      "source": [
        "Метод parse () содержит два аргумента, первый – дескриптор файла, а второй – формат файла."
      ],
      "metadata": {
        "id": "P-37UWQ-GtE_"
      }
    },
    {
      "cell_type": "code",
      "source": [
        "path = \"orchid.fasta\"\n",
        "file = open(path)\n",
        "for i, record in enumerate(parse(file, \"fasta\")):\n",
        "    if i < 10:\n",
        "        print(record.id)"
      ],
      "metadata": {
        "colab": {
          "base_uri": "https://localhost:8080/"
        },
        "id": "PtYLfjitGw6d",
        "outputId": "8b9f0bc9-9662-4f8a-d321-b3908d89c7b2"
      },
      "execution_count": 6,
      "outputs": [
        {
          "output_type": "stream",
          "name": "stdout",
          "text": [
            "gi|2765658|emb|Z78533.1|CIZ78533\n",
            "gi|2765657|emb|Z78532.1|CCZ78532\n",
            "gi|2765656|emb|Z78531.1|CFZ78531\n",
            "gi|2765655|emb|Z78530.1|CMZ78530\n",
            "gi|2765654|emb|Z78529.1|CLZ78529\n",
            "gi|2765652|emb|Z78527.1|CYZ78527\n",
            "gi|2765651|emb|Z78526.1|CGZ78526\n",
            "gi|2765650|emb|Z78525.1|CAZ78525\n",
            "gi|2765649|emb|Z78524.1|CFZ78524\n",
            "gi|2765648|emb|Z78523.1|CHZ78523\n"
          ]
        }
      ]
    },
    {
      "cell_type": "markdown",
      "source": [
        "Здесь метод parse () возвращает итеративный объект, который возвращает SeqRecord на каждой итерации. Будучи повторяемым, он предоставляет множество сложных и простых методов и позволяет нам увидеть некоторые из особенностей."
      ],
      "metadata": {
        "id": "ZP4cq13-HFY9"
      }
    },
    {
      "cell_type": "code",
      "source": [
        "type(parse(file, \"fasta\"))"
      ],
      "metadata": {
        "colab": {
          "base_uri": "https://localhost:8080/",
          "height": 120
        },
        "id": "trgBE-WRHmqa",
        "outputId": "84142dc2-6596-484f-9f70-280b440a0096"
      },
      "execution_count": 7,
      "outputs": [
        {
          "output_type": "execute_result",
          "data": {
            "text/plain": [
              "Bio.SeqIO.FastaIO.FastaIterator"
            ],
            "text/html": [
              "<div style=\"max-width:800px; border: 1px solid var(--colab-border-color);\"><style>\n",
              "      pre.function-repr-contents {\n",
              "        overflow-x: auto;\n",
              "        padding: 8px 12px;\n",
              "        max-height: 500px;\n",
              "      }\n",
              "\n",
              "      pre.function-repr-contents.function-repr-contents-collapsed {\n",
              "        cursor: pointer;\n",
              "        max-height: 100px;\n",
              "      }\n",
              "    </style>\n",
              "    <pre style=\"white-space: initial; background:\n",
              "         var(--colab-secondary-surface-color); padding: 8px 12px;\n",
              "         border-bottom: 1px solid var(--colab-border-color);\"><b>Bio.SeqIO.FastaIO.FastaIterator</b><br/>def __init__(source: _TextIOSource, alphabet: None=None) -&gt; None</pre><pre class=\"function-repr-contents function-repr-contents-collapsed\" style=\"\"><a class=\"filepath\" style=\"display:none\" href=\"#\">/usr/local/lib/python3.10/dist-packages/Bio/SeqIO/FastaIO.py</a>Parser for Fasta files.</pre>\n",
              "      <script>\n",
              "      if (google.colab.kernel.accessAllowed && google.colab.files && google.colab.files.view) {\n",
              "        for (const element of document.querySelectorAll('.filepath')) {\n",
              "          element.style.display = 'block'\n",
              "          element.onclick = (event) => {\n",
              "            event.preventDefault();\n",
              "            event.stopPropagation();\n",
              "            google.colab.files.view(element.textContent, 139);\n",
              "          };\n",
              "        }\n",
              "      }\n",
              "      for (const element of document.querySelectorAll('.function-repr-contents')) {\n",
              "        element.onclick = (event) => {\n",
              "          event.preventDefault();\n",
              "          event.stopPropagation();\n",
              "          element.classList.toggle('function-repr-contents-collapsed');\n",
              "        };\n",
              "      }\n",
              "      </script>\n",
              "      </div>"
            ]
          },
          "metadata": {},
          "execution_count": 7
        }
      ]
    },
    {
      "cell_type": "markdown",
      "source": [
        "## **ШАГ 2**"
      ],
      "metadata": {
        "id": "7_VL_FrfHr0y"
      }
    },
    {
      "cell_type": "markdown",
      "source": [
        "Метод *next()* возвращает следующий элемент, доступный в итерируемом объекте, который мы можем использовать для получения первой последовательности, как показано ниже:"
      ],
      "metadata": {
        "id": "7r3HVUeaHzAL"
      }
    },
    {
      "cell_type": "code",
      "source": [
        "first_seq_record = next(parse(open(path),'fasta'))\n",
        "print(f\"id: {first_seq_record.id}, \\n\\\n",
        "name: {first_seq_record.name}, \\n\\\n",
        "seq: {first_seq_record.seq}, \\n\\\n",
        "description: {first_seq_record.description}, \\n\\\n",
        "annotations: {first_seq_record.annotations}\")"
      ],
      "metadata": {
        "colab": {
          "base_uri": "https://localhost:8080/"
        },
        "id": "6ddNZtwFH90_",
        "outputId": "c210cffe-8ccd-4061-fcec-a845dcf52928"
      },
      "execution_count": 14,
      "outputs": [
        {
          "output_type": "stream",
          "name": "stdout",
          "text": [
            "id: gi|2765658|emb|Z78533.1|CIZ78533, \n",
            "name: gi|2765658|emb|Z78533.1|CIZ78533, \n",
            "seq: CGTAACAAGGTTTCCGTAGGTGAACCTGCGGAAGGATCATTGATGAGACCGTGGAATAAACGATCGAGTGAATCCGGAGGACCGGTGTACTCAGCTCACCGGGGGCATTGCTCCCGTGGTGACCCTGATTTGTTGTTGGGCCGCCTCGGGAGCGTCCATGGCGGGTTTGAACCTCTAGCCCGGCGCAGTTTGGGCGCCAAGCCATATGAAAGCATCACCGGCGAATGGCATTGTCTTCCCCAAAACCCGGAGCGGCGGCGTGCTGTCGCGTGCCCAATGAATTTTGATGACTCTCGCAAACGGGAATCTTGGCTCTTTGCATCGGATGGAAGGACGCAGCGAAATGCGATAAGTGGTGTGAATTGCAAGATCCCGTGAACCATCGAGTCTTTTGAACGCAAGTTGCGCCCGAGGCCATCAGGCTAAGGGCACGCCTGCTTGGGCGTCGCGCTTCGTCTCTCTCCTGCCAATGCTTGCCCGGCATACAGCCAGGCCGGCGTGGTGCGGATGTGAAAGATTGGCCCCTTGTGCCTAGGTGCGGCGGGTCCAAGAGCTGGTGTTTTGATGGCCCGGAACCCGGCAAGAGGTGGACGGATGCTGGCAGCAGCTGCCGTGCGAATCCCCCATGTTGTCGTGCTTGTCGGACAGGCAGGAGAACCCTTCCGAACCCCAATGGAGGGCGGTTGACCGCCATTCGGATGTGACCCCAGGTCAGGCGGGGGCACCCGCTGAGTTTACGC, \n",
            "description: gi|2765658|emb|Z78533.1|CIZ78533 C.irapeanum 5.8S rRNA gene and ITS1 and ITS2 DNA, \n",
            "annotations: {}\n"
          ]
        }
      ]
    },
    {
      "cell_type": "markdown",
      "source": [
        "Здесь seq_record.annotations пуст, поскольку формат FASTA не поддерживает аннотации последовательности."
      ],
      "metadata": {
        "id": "cO2sUEGdJMRR"
      }
    },
    {
      "cell_type": "markdown",
      "source": [
        "## **ШАГ 3**"
      ],
      "metadata": {
        "id": "EJqFHzo_JQN4"
      }
    },
    {
      "cell_type": "markdown",
      "source": [
        "**Преобразовать итерируемый объект** в список, используя list comprehension, как указано ниже :"
      ],
      "metadata": {
        "id": "n98O08fTJU4k"
      }
    },
    {
      "cell_type": "code",
      "source": [
        "seq_iter = parse(open(path),'fasta')\n",
        "all_seq = [seq_record for seq_record in seq_iter]\n",
        "len(all_seq)"
      ],
      "metadata": {
        "colab": {
          "base_uri": "https://localhost:8080/"
        },
        "id": "J-nGtqcnJkgo",
        "outputId": "e1c689aa-ccb2-44b2-8688-0ec20f49c16e"
      },
      "execution_count": 16,
      "outputs": [
        {
          "output_type": "execute_result",
          "data": {
            "text/plain": [
              "94"
            ]
          },
          "metadata": {},
          "execution_count": 16
        }
      ]
    },
    {
      "cell_type": "markdown",
      "source": [
        "Получить длину самой длинной последовательности следующим образом:"
      ],
      "metadata": {
        "id": "a030YjezJir6"
      }
    },
    {
      "cell_type": "code",
      "source": [
        "seq_iter = parse(open(path),'fasta')\n",
        "max_seq = max(len(seq_record.seq) for seq_record in seq_iter)\n",
        "max_seq"
      ],
      "metadata": {
        "colab": {
          "base_uri": "https://localhost:8080/"
        },
        "id": "GqFkEqSRJS4t",
        "outputId": "bbf61190-d3d7-41ec-c020-f5af4c5d729d"
      },
      "execution_count": 15,
      "outputs": [
        {
          "output_type": "execute_result",
          "data": {
            "text/plain": [
              "789"
            ]
          },
          "metadata": {},
          "execution_count": 15
        }
      ]
    },
    {
      "cell_type": "markdown",
      "source": [
        "Отфильтровать последовательности по длине, используя приведенный ниже код.\n",
        "\n",
        "*Прим.* Не нужно делать print. Просто выведите на экран 5 первых элементов списка, если они есть."
      ],
      "metadata": {
        "id": "6Qu_eVncJ6FJ"
      }
    },
    {
      "cell_type": "code",
      "source": [
        "seq_iter = parse(open(path),'fasta')\n",
        "seq_under_600 = [seq_record for seq_record in seq_iter if len(seq_record.seq) < 600]\n",
        "for seq in seq_under_600:\n",
        "   print(seq.id)"
      ],
      "metadata": {
        "colab": {
          "base_uri": "https://localhost:8080/"
        },
        "id": "Y1y8aSHRKBWM",
        "outputId": "3bf9cda0-4346-4047-80d6-268453706071"
      },
      "execution_count": 17,
      "outputs": [
        {
          "output_type": "stream",
          "name": "stdout",
          "text": [
            "gi|2765606|emb|Z78481.1|PIZ78481\n",
            "gi|2765605|emb|Z78480.1|PGZ78480\n",
            "gi|2765601|emb|Z78476.1|PGZ78476\n",
            "gi|2765595|emb|Z78470.1|PPZ78470\n",
            "gi|2765594|emb|Z78469.1|PHZ78469\n",
            "gi|2765564|emb|Z78439.1|PBZ78439\n"
          ]
        }
      ]
    },
    {
      "cell_type": "markdown",
      "source": [
        "Записать коллекцию объектов SqlRecord (проанализированные данные) в файл как показано ниже:"
      ],
      "metadata": {
        "id": "xP9QfhhlKQMX"
      }
    },
    {
      "cell_type": "code",
      "source": [
        "from Bio.SeqIO import write"
      ],
      "metadata": {
        "id": "FSlgDn40KiiD"
      },
      "execution_count": 18,
      "outputs": []
    },
    {
      "cell_type": "code",
      "source": [
        "file = open(\"converted.fasta\", \"w\")\n",
        "write(all_seq, file, \"fasta\")"
      ],
      "metadata": {
        "colab": {
          "base_uri": "https://localhost:8080/"
        },
        "id": "YbRZqRS2KSkz",
        "outputId": "02a525a4-aa4e-4ec1-d62a-0774cb2b94be"
      },
      "execution_count": 19,
      "outputs": [
        {
          "output_type": "execute_result",
          "data": {
            "text/plain": [
              "94"
            ]
          },
          "metadata": {},
          "execution_count": 19
        }
      ]
    },
    {
      "cell_type": "code",
      "source": [
        "file = open('seq_under_600.fasta', 'w')\n",
        "write(seq_under_600, file, \"fasta\")\n",
        "file.close()"
      ],
      "metadata": {
        "id": "0ruyEU5BLjH0"
      },
      "execution_count": 21,
      "outputs": []
    }
  ]
}