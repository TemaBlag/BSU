{
  "nbformat": 4,
  "nbformat_minor": 0,
  "metadata": {
    "colab": {
      "provenance": []
    },
    "kernelspec": {
      "name": "python3",
      "display_name": "Python 3"
    },
    "language_info": {
      "name": "python"
    }
  },
  "cells": [
    {
      "cell_type": "code",
      "source": [
        "!pip install pulp"
      ],
      "metadata": {
        "colab": {
          "base_uri": "https://localhost:8080/"
        },
        "id": "ws_3an8ExjDv",
        "outputId": "ec4bc892-d051-4ad7-ed41-2e9d307f3c99"
      },
      "execution_count": 2,
      "outputs": [
        {
          "output_type": "stream",
          "name": "stdout",
          "text": [
            "Collecting pulp\n",
            "  Downloading PuLP-2.7.0-py3-none-any.whl (14.3 MB)\n",
            "\u001b[2K     \u001b[90m━━━━━━━━━━━━━━━━━━━━━━━━━━━━━━━━━━━━━━━━\u001b[0m \u001b[32m14.3/14.3 MB\u001b[0m \u001b[31m40.3 MB/s\u001b[0m eta \u001b[36m0:00:00\u001b[0m\n",
            "\u001b[?25hInstalling collected packages: pulp\n",
            "Successfully installed pulp-2.7.0\n"
          ]
        }
      ]
    },
    {
      "cell_type": "code",
      "execution_count": 4,
      "metadata": {
        "colab": {
          "base_uri": "https://localhost:8080/"
        },
        "id": "l55nVtvHxhPd",
        "outputId": "b8c52b57-329b-4c32-906a-9848f47f443c"
      },
      "outputs": [
        {
          "output_type": "stream",
          "name": "stdout",
          "text": [
            "price: 26.0\n",
            "take: 1.0 0.0 0.0 1.0 1.0\n"
          ]
        }
      ],
      "source": [
        "from pulp import *\n",
        "\n",
        "\n",
        "# data\n",
        "n = 5\n",
        "weights = [15, 9, 10, 8, 22]\n",
        "prices = [11, 3, 4, 3, 12]\n",
        "carry_weight = 45\n",
        "\n",
        "# problem formulation\n",
        "model = LpProblem(sense=LpMaximize)\n",
        "\n",
        "variables = [LpVariable(name=f\"x_{i}\", cat=LpBinary) for i in range(n)]\n",
        "\n",
        "model += lpDot(weights, variables) <= carry_weight\n",
        "\n",
        "model += lpDot(prices, variables)\n",
        "\n",
        "# solve (without being verbose)\n",
        "status = model.solve(PULP_CBC_CMD(msg=False))\n",
        "print(\"price:\", model.objective.value())\n",
        "print(\"take:\", *[variables[i].value() for i in range(n)])"
      ]
    },
    {
      "cell_type": "code",
      "source": [],
      "metadata": {
        "id": "KN30Dd-Txmq3"
      },
      "execution_count": null,
      "outputs": []
    }
  ]
}