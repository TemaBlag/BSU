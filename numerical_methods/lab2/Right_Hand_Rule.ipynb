{
  "nbformat": 4,
  "nbformat_minor": 0,
  "metadata": {
    "colab": {
      "provenance": []
    },
    "kernelspec": {
      "name": "python3",
      "display_name": "Python 3"
    },
    "language_info": {
      "name": "python"
    }
  },
  "cells": [
    {
      "cell_type": "code",
      "source": [
        "import numpy as np"
      ],
      "metadata": {
        "id": "fa8kQPOfBw29"
      },
      "execution_count": null,
      "outputs": []
    },
    {
      "cell_type": "code",
      "source": [
        "def tridiagonal_solver(A, b, diag=False):\n",
        "    n = len(b)\n",
        "    # Параметры для метода прогонки\n",
        "    alpha = np.zeros(n-1)  # Коэффициенты для поддиагонали\n",
        "    beta = np.zeros(n)      # Диагональные элементы\n",
        "    gamma = np.zeros(n-1)   # Коэффициенты для наддиагонали\n",
        "\n",
        "    # Заполнение коэффициентов\n",
        "    for i in range(n):\n",
        "        if i > 0:\n",
        "            alpha[i-1] = A[i, i-1]\n",
        "        beta[i] = A[i, i]\n",
        "        if i < n-1:\n",
        "            gamma[i] = A[i, i+1]\n",
        "\n",
        "    # Прямой ход\n",
        "    for i in range(1, n):\n",
        "        scale = alpha[i-1] / beta[i-1]\n",
        "        beta[i] -= scale * gamma[i-1]\n",
        "        b[i] -= scale * b[i-1]\n",
        "\n",
        "    # Обратный ход\n",
        "    x = np.zeros(n)\n",
        "    x[-1] = b[-1] / beta[-1]\n",
        "    for i in range(n-2, -1, -1):\n",
        "        x[i] = (b[i] - gamma[i] * x[i+1]) / beta[i]\n",
        "\n",
        "    if diag:\n",
        "        return beta\n",
        "    else:\n",
        "        return x\n",
        "\n",
        "def determinant(A):\n",
        "    \"\"\"Вычисляет определитель трёхдиагональной матрицы.\"\"\"\n",
        "    modified_diagonals = tridiagonal_solver(A, np.zeros(A.shape[0]), diag=True)\n",
        "    det = np.prod(modified_diagonals)\n",
        "    return det\n",
        "\n",
        "def inverse_tridiagonal(A):\n",
        "    \"\"\"Находит обратную трёхдиагональную матрицу.\"\"\"\n",
        "    n = A.shape[0]\n",
        "    A_inv = np.zeros((n, n))\n",
        "\n",
        "    for i in range(n):\n",
        "        e = np.zeros(n)\n",
        "        e[i] = 1  # Столбец единичной матрицы\n",
        "        A_inv[:, i] = tridiagonal_solver(A, e)\n",
        "\n",
        "    return A_inv\n",
        "\n",
        "def residual(A, x, b):\n",
        "    \"\"\"Вычисляет невязку r = Ax - b.\"\"\"\n",
        "    return A @ x - b\n",
        "\n",
        "def condition_number(A):\n",
        "    \"\"\"Вычисляет число обусловленности v(A).\"\"\"\n",
        "    A_inv = inverse_tridiagonal(A)\n",
        "    return np.linalg.norm(A) * np.linalg.norm(A_inv)"
      ],
      "metadata": {
        "id": "S-ynBgCNKMu5"
      },
      "execution_count": null,
      "outputs": []
    },
    {
      "cell_type": "code",
      "source": [
        "tridiagonal_solver(A, b)"
      ],
      "metadata": {
        "colab": {
          "base_uri": "https://localhost:8080/"
        },
        "id": "gULOOGw56_Kv",
        "outputId": "a6152543-5e97-4376-e44a-b0a67b879cda"
      },
      "execution_count": null,
      "outputs": [
        {
          "output_type": "execute_result",
          "data": {
            "text/plain": [
              "array([ 4.75893861, -5.27935844, -6.23557948, -0.88508827,  4.20719919])"
            ]
          },
          "metadata": {},
          "execution_count": 17
        }
      ]
    },
    {
      "cell_type": "code",
      "source": [
        "r = A @ tridiagonal_solver(A, b) - b"
      ],
      "metadata": {
        "id": "atkAYhMdJQyF"
      },
      "execution_count": null,
      "outputs": []
    },
    {
      "cell_type": "code",
      "source": [
        "np.linalg.norm(r)"
      ],
      "metadata": {
        "colab": {
          "base_uri": "https://localhost:8080/"
        },
        "id": "-GtDvzCb8K6v",
        "outputId": "ed8e4b35-f9ad-4f84-ef95-d87f7bd82a49"
      },
      "execution_count": null,
      "outputs": [
        {
          "output_type": "execute_result",
          "data": {
            "text/plain": [
              "1.2731469178346864"
            ]
          },
          "metadata": {},
          "execution_count": 20
        }
      ]
    },
    {
      "cell_type": "code",
      "source": [
        "b"
      ],
      "metadata": {
        "colab": {
          "base_uri": "https://localhost:8080/"
        },
        "id": "450RrUgWJfTw",
        "outputId": "c96a41c6-8599-44c0-819e-d929e58fcfc8"
      },
      "execution_count": null,
      "outputs": [
        {
          "output_type": "execute_result",
          "data": {
            "text/plain": [
              "array([ 4.2326    , -3.32561354, -5.71924911, -0.10551814,  3.22644286])"
            ]
          },
          "metadata": {},
          "execution_count": 8
        }
      ]
    },
    {
      "cell_type": "code",
      "source": [
        "import numpy as np\n",
        "\n",
        "def gauss_elimination(A, b):\n",
        "    n = len(b)\n",
        "    for i in range(n):\n",
        "        for j in range(i + 1, n):\n",
        "            if A[j, i] != 0:\n",
        "                ratio = A[j, i] / A[i, i]\n",
        "                A[j, i:] -= ratio * A[i, i:]\n",
        "                b[j] -= ratio * b[i]\n",
        "    x = np.zeros(n)\n",
        "    for i in range(n - 1, -1, -1):\n",
        "        x[i] = (b[i] - np.dot(A[i, i + 1:], x[i + 1:])) / A[i, i]\n",
        "\n",
        "    return x"
      ],
      "metadata": {
        "id": "hLcK2EDo-L6D"
      },
      "execution_count": null,
      "outputs": []
    },
    {
      "cell_type": "code",
      "source": [
        "gauss_elimination(A,b)"
      ],
      "metadata": {
        "colab": {
          "base_uri": "https://localhost:8080/"
        },
        "id": "bhNYcdl0-XOz",
        "outputId": "c85c1150-97b0-4ef2-8bff-41539519cf34"
      },
      "execution_count": null,
      "outputs": [
        {
          "output_type": "execute_result",
          "data": {
            "text/plain": [
              "array([ 4.75893861, -3.93967789, -8.2232507 , -3.77070855,  3.97086151])"
            ]
          },
          "metadata": {},
          "execution_count": 23
        }
      ]
    },
    {
      "cell_type": "code",
      "source": [
        "np.linalg.solve(A, b)"
      ],
      "metadata": {
        "colab": {
          "base_uri": "https://localhost:8080/"
        },
        "id": "3TkNLk1JJEPX",
        "outputId": "5e0dbc1e-f590-4285-c4e3-240d15f5fe71"
      },
      "execution_count": null,
      "outputs": [
        {
          "output_type": "execute_result",
          "data": {
            "text/plain": [
              "array([ 4.75893861, -4.83279826, -6.96902066, -1.76437325,  4.15674223])"
            ]
          },
          "metadata": {},
          "execution_count": 11
        }
      ]
    }
  ]
}