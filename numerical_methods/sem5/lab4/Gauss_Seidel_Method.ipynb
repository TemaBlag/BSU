{
  "nbformat": 4,
  "nbformat_minor": 0,
  "metadata": {
    "colab": {
      "provenance": []
    },
    "kernelspec": {
      "name": "python3",
      "display_name": "Python 3"
    },
    "language_info": {
      "name": "python"
    }
  },
  "cells": [
    {
      "cell_type": "code",
      "source": [
        "import numpy as np\n",
        "from functools import reduce"
      ],
      "metadata": {
        "id": "gu1sULAMELzT"
      },
      "execution_count": null,
      "outputs": []
    },
    {
      "cell_type": "code",
      "execution_count": null,
      "metadata": {
        "id": "129bpc8Dz3Jn"
      },
      "outputs": [],
      "source": [
        "A = np.array([[0.8894, 0.0000, -0.2323, 0.1634, 0.2723],\n",
        "              [-0.0545, 0.5808, 0.0000, -0.1107, 0.0363],\n",
        "              [0.0182, -0.1634, 1.0527, 0.0200, 0.0635],\n",
        "              [0.0545, 0.0000, -0.1325, 1.0527, 0.0000],\n",
        "              [0.0363, -0.0545, 0.2632, -0.0218, 0.7623]])\n",
        "b = np.array([4.2326, -4.1037, -2.6935, 1.6916, 3.1908])"
      ]
    },
    {
      "cell_type": "code",
      "source": [
        "def gauss_seidel_method(A, b, max_iter=100, epsilon=1e-5, iterations=False):\n",
        "    n = len(A)\n",
        "    x = [b[i] / A[i, i] for i in range(n)]\n",
        "    k = 0\n",
        "    for iter in range(max_iter):\n",
        "        k += 1\n",
        "        x_old = x.copy()\n",
        "        for i in range(n):\n",
        "            x[i] = (b[i] - x @ A[i] + x[i] * A[i, i]) / A[i, i]\n",
        "        if all(abs(x[i]-x_old[i]) <= epsilon for i in range(n)):\n",
        "            break\n",
        "    if iterations:\n",
        "        return (x, k)\n",
        "    return x\n",
        "\n",
        "def condition_method(A):\n",
        "    for i in range(len(A)):\n",
        "        if 2 * abs(A[i, i]) <= reduce(lambda x, y: x + abs(y), A[i], 0):\n",
        "            return False\n",
        "    return True\n",
        "\n",
        "def residual(A, b, x):\n",
        "    return b - A @ x"
      ],
      "metadata": {
        "id": "b25kIyY60QIH"
      },
      "execution_count": null,
      "outputs": []
    },
    {
      "cell_type": "code",
      "source": [
        "x = gauss_seidel_method(A, b)"
      ],
      "metadata": {
        "id": "_hvOUeid8HC3"
      },
      "execution_count": null,
      "outputs": []
    },
    {
      "cell_type": "code",
      "source": [
        "residual(A, b, x)"
      ],
      "metadata": {
        "colab": {
          "base_uri": "https://localhost:8080/"
        },
        "id": "foUncza08Tdl",
        "outputId": "d86012a4-adfa-4ed0-e9d0-1ddf2e963114"
      },
      "execution_count": null,
      "outputs": [
        {
          "output_type": "execute_result",
          "data": {
            "text/plain": [
              "array([-1.84488925e-07,  6.69304789e-09, -2.18122169e-08,  0.00000000e+00,\n",
              "       -4.44089210e-16])"
            ]
          },
          "metadata": {},
          "execution_count": 11
        }
      ]
    },
    {
      "cell_type": "code",
      "source": [
        "condition_method(A)"
      ],
      "metadata": {
        "colab": {
          "base_uri": "https://localhost:8080/"
        },
        "id": "JRGMwj8N_XtJ",
        "outputId": "fdaad434-6cc4-47da-af06-d568adf2d788"
      },
      "execution_count": null,
      "outputs": [
        {
          "output_type": "execute_result",
          "data": {
            "text/plain": [
              "True"
            ]
          },
          "metadata": {},
          "execution_count": 28
        }
      ]
    },
    {
      "cell_type": "code",
      "source": [
        "eps_values = 10. ** -np.arange(1, 17)\n",
        "\n",
        "for eps in eps_values:\n",
        "    sol, k = gauss_seidel_method(A, b, epsilon=eps, iterations=True)\n",
        "    res = residual(A, b, sol)\n",
        "    min_res = min(np.where(res == 0, 1, res))\n",
        "    scientific = f\"{min_res:.1e}\"\n",
        "    exponent = int(scientific.split('e')[1])\n",
        "    print(f\"eps: {eps}, steps: {k}, min exp component r: {10. ** exponent}\")"
      ],
      "metadata": {
        "colab": {
          "base_uri": "https://localhost:8080/"
        },
        "id": "y_N1MpM-8cZe",
        "outputId": "a202c6e5-aead-4b8d-c2af-178e5aed291e"
      },
      "execution_count": null,
      "outputs": [
        {
          "output_type": "stream",
          "name": "stdout",
          "text": [
            "eps: 0.1, steps: 3, min exp component r: 0.001\n",
            "eps: 0.01, steps: 4, min exp component r: 1e-05\n",
            "eps: 0.001, steps: 5, min exp component r: 1e-06\n",
            "eps: 0.0001, steps: 5, min exp component r: 1e-06\n",
            "eps: 1e-05, steps: 6, min exp component r: 1e-07\n",
            "eps: 1e-06, steps: 7, min exp component r: 1e-08\n",
            "eps: 1e-07, steps: 8, min exp component r: 1e-10\n",
            "eps: 1e-08, steps: 9, min exp component r: 1e-11\n",
            "eps: 1e-09, steps: 9, min exp component r: 1e-11\n",
            "eps: 1e-10, steps: 10, min exp component r: 1e-12\n",
            "eps: 1e-11, steps: 11, min exp component r: 1e-14\n",
            "eps: 1e-12, steps: 12, min exp component r: 1e-15\n",
            "eps: 1e-13, steps: 12, min exp component r: 1e-15\n",
            "eps: 1e-14, steps: 13, min exp component r: 1e-16\n",
            "eps: 1e-15, steps: 14, min exp component r: 1e-16\n",
            "eps: 1e-16, steps: 100, min exp component r: 1e-16\n"
          ]
        }
      ]
    },
    {
      "cell_type": "code",
      "source": [
        "print(f\"r={residual(A, b, gauss_seidel_method(A, b, epsilon=1e-14))}\")"
      ],
      "metadata": {
        "colab": {
          "base_uri": "https://localhost:8080/"
        },
        "id": "bekyXZlECIrJ",
        "outputId": "1b049f71-61dd-4c3f-bc26-d7326dc01434"
      },
      "execution_count": null,
      "outputs": [
        {
          "output_type": "stream",
          "name": "stdout",
          "text": [
            "r=[-8.88178420e-16  0.00000000e+00  0.00000000e+00 -2.22044605e-16\n",
            " -4.44089210e-16]\n"
          ]
        }
      ]
    },
    {
      "cell_type": "code",
      "source": [
        "import numpy as np\n",
        "from functools import reduce\n",
        "A = np.array([[0.8894, 0.0000, -0.2323, 0.1634, 0.2723],\n",
        "              [-0.0545, 0.5808, 0.0000, -0.1107, 0.0363],\n",
        "              [0.0182, -0.1634, 1.0527, 0.0200, 0.0635],\n",
        "              [0.0545, 0.0000, -0.1325, 1.0527, 0.0000],\n",
        "              [0.0363, -0.0545, 0.2632, -0.0218, 0.7623]])\n",
        "b = np.array([4.2326, -4.1037, -2.6935, 1.6916, 3.1908])\n",
        "\n",
        "\n",
        "def gauss_seidel_method(A, b, max_iter=100, epsilon=1e-5, iterations=False):\n",
        "    n = len(A)\n",
        "    x = [b[i] / A[i, i] for i in range(n)]\n",
        "    k = 0\n",
        "    for iter in range(max_iter):\n",
        "        k += 1\n",
        "        x_old = x.copy()\n",
        "        for i in range(n):\n",
        "            x[i] = (b[i] - x @ A[i] + x[i] * A[i, i]) / A[i, i]\n",
        "        if all(abs(x[i]-x_old[i]) <= epsilon for i in range(n)):\n",
        "            break\n",
        "    if iterations:\n",
        "        return (x, k)\n",
        "    return x\n",
        "\n",
        "def condition_method(A):\n",
        "    for i in range(len(A)):\n",
        "        if 2 * abs(A[i, i]) <= reduce(lambda x, y: x + abs(y), A[i], 0):\n",
        "            return False\n",
        "    return True\n",
        "\n",
        "def residual(A, b, x):\n",
        "    return b - A @ x\n",
        "\n",
        "print(f\"Are the convergence conditions satisfied: {condition_method(A)}\")\n",
        "\n",
        "eps_values = 10. ** -np.arange(1, 17)\n",
        "\n",
        "for eps in eps_values:\n",
        "    sol, k = gauss_seidel_method(A, b, epsilon=eps, iterations=True)\n",
        "    res = residual(A, b, sol)\n",
        "    min_res = min(np.where(res == 0, 1, res))\n",
        "    scientific = f\"{min_res:.1e}\"\n",
        "    exponent = int(scientific.split('e')[1])\n",
        "    print(eps, k, 10. ** exponent)\n",
        "\n",
        "print(gauss_seidel_method(A, b))"
      ],
      "metadata": {
        "colab": {
          "base_uri": "https://localhost:8080/"
        },
        "id": "3jdGIdlg_Rfh",
        "outputId": "f6a86319-7083-4b93-a935-fa8602568a0d"
      },
      "execution_count": null,
      "outputs": [
        {
          "output_type": "stream",
          "name": "stdout",
          "text": [
            "Are the convergence conditions satisfied: True\n",
            "0.1 3 0.001\n",
            "0.01 4 1e-05\n",
            "0.001 5 1e-06\n",
            "0.0001 5 1e-06\n",
            "1e-05 6 1e-07\n",
            "1e-06 7 1e-08\n",
            "1e-07 8 1e-10\n",
            "1e-08 9 1e-11\n",
            "1e-09 9 1e-11\n",
            "1e-10 10 1e-12\n",
            "1e-11 11 1e-14\n",
            "1e-12 12 1e-15\n",
            "1e-13 12 1e-15\n",
            "1e-14 13 1e-16\n",
            "1e-15 14 1e-16\n",
            "1e-16 100 1e-16\n",
            "[1.999631546210085, -6.999877636175855, -4.000345064417595, 0.9998806494691925, 4.999879657371284]\n"
          ]
        }
      ]
    }
  ]
}