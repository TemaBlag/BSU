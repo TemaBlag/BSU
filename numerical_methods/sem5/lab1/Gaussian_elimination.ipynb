{
  "cells": [
    {
      "cell_type": "code",
      "source": [
        "import numpy as np"
      ],
      "metadata": {
        "id": "uFtQisarCOd8"
      },
      "execution_count": null,
      "outputs": []
    },
    {
      "cell_type": "code",
      "execution_count": null,
      "metadata": {
        "id": "TQzT5O9PnqM8"
      },
      "outputs": [],
      "source": [
        "A = np.array([[0.8894, 0.0000, -0.2323, 0.1634, 0.2723],\n",
        "              [-0.0545, 0.5808, 0.0000, -0.1107, 0.0363],\n",
        "              [0.0182, -0.1634, 1.0527, 0.0200, 0.0635],\n",
        "              [0.0545, 0.0000, -0.1325, 1.0527, 0.0000],\n",
        "              [0.0363, -0.0545, 0.2632, -0.0218, 0.7623]])\n",
        "b = np.array([4.2326, -4.1037, -2.6935, 1.6916, 3.1908])"
      ]
    },
    {
      "cell_type": "code",
      "execution_count": null,
      "metadata": {
        "id": "_hnB-FHTvbk2"
      },
      "outputs": [],
      "source": [
        "def gauss_elimination(A, b):\n",
        "    n = len(b)\n",
        "    for i in range(n):\n",
        "        for j in range(i + 1, n):\n",
        "            if A[j, i] != 0:\n",
        "                ratio = A[j, i] / A[i, i]\n",
        "                A[j, i:] -= ratio * A[i, i:]\n",
        "                b[j] -= ratio * b[i]\n",
        "    x = np.zeros(n)\n",
        "    for i in range(n - 1, -1, -1):\n",
        "        x[i] = (b[i] - np.dot(A[i, i + 1:], x[i + 1:])) / A[i, i]\n",
        "\n",
        "    return x"
      ]
    },
    {
      "cell_type": "code",
      "execution_count": null,
      "metadata": {
        "id": "fXwsZw_exrJe"
      },
      "outputs": [],
      "source": [
        "def compute_determinant(A):\n",
        "    det = 1\n",
        "    # Определитель равен произведению диагональных элементов\n",
        "    for i in range(len(A)):\n",
        "        det *= A[i, i]\n",
        "    return det\n",
        "\n",
        "def compute_inverse(A):\n",
        "    n = A.shape[0]\n",
        "    A_copy = np.hstack((A, np.eye(n)))  # Объединяем A с единичной матрицей\n",
        "    for i in range(n):\n",
        "        # Нормализация ведущего элемента\n",
        "        A_copy[i] = A_copy[i] / A_copy[i, i]\n",
        "        for j in range(n):\n",
        "            if i != j:\n",
        "                A_copy[j] -= A_copy[i] * A_copy[j, i]\n",
        "    return A_copy[:, n:]  # Возвращаем только обратную матрицу\n",
        "\n",
        "def compute_condition_number(A):\n",
        "    A_inv = compute_inverse(A)\n",
        "    norm_A = np.max(np.sum(np.abs(A), axis=0))  # Норма 1\n",
        "    norm_A_inv = np.max(np.sum(np.abs(A_inv), axis=0))\n",
        "    return norm_A * norm_A_inv\n",
        "\n",
        "def compute_residual_matrix(A):\n",
        "    A_inv = compute_inverse(A)\n",
        "    return np.eye(A.shape[0]) - A_inv @ A\n",
        "\n",
        "def compute_residual_vector(A, x, b):\n",
        "    return A @ x - b\n",
        "\n",
        "x = compute_residual_matrix(A)\n"
      ]
    },
    {
      "cell_type": "code",
      "execution_count": null,
      "metadata": {
        "id": "siPE5qIExwP5"
      },
      "outputs": [],
      "source": [
        "def compute_inverse_v2(A):\n",
        "    n = len(A)\n",
        "    b = np.eye(n)\n",
        "    for i in range(n):\n",
        "        b[i] = gauss_elimination(A.copy(), b[i])\n",
        "    return b.T"
      ]
    },
    {
      "cell_type": "code",
      "execution_count": null,
      "metadata": {
        "colab": {
          "base_uri": "https://localhost:8080/"
        },
        "id": "FWYxezW4yQ5o",
        "outputId": "62f1d16e-756c-40f3-8247-a2fcb088a8a2"
      },
      "outputs": [
        {
          "output_type": "stream",
          "name": "stdout",
          "text": [
            "Вектор невязки r: [ 0.00000000e+00  0.00000000e+00  0.00000000e+00  2.22044605e-16\n",
            " -4.44089210e-16]\n"
          ]
        }
      ],
      "source": [
        "x = np.linalg.solve(A, b)  # Решаем систему Ax = b\n",
        "\n",
        "# Вычисление матрицы невязки\n",
        "r = b - A @ x  # Используем матричное умножение\n",
        "\n",
        "print(\"Вектор невязки r:\", r)"
      ]
    },
    {
      "cell_type": "code",
      "source": [
        "compute_inverse(A)"
      ],
      "metadata": {
        "colab": {
          "base_uri": "https://localhost:8080/"
        },
        "id": "-mH5L3gyboD6",
        "outputId": "4fd55def-e1c5-4194-bced-deb8dc83c293"
      },
      "execution_count": null,
      "outputs": [
        {
          "output_type": "execute_result",
          "data": {
            "text/plain": [
              "array([[ 1.15029669e+00,  5.43585507e-02,  3.40591048e-01,\n",
              "        -1.88453748e-01, -4.41855614e-01],\n",
              "       [ 9.96589607e-02,  1.73079024e+00,  7.34918870e-02,\n",
              "         1.62570653e-01, -1.24139519e-01],\n",
              "       [-3.15511068e-04,  2.65296914e-01,  9.74233264e-01,\n",
              "         7.49800559e-03, -9.36746381e-02],\n",
              "       [-5.95924523e-02,  3.05778475e-02,  1.04990686e-01,\n",
              "         9.60638563e-01,  1.10850588e-02],\n",
              "       [-4.92462669e-02,  3.04280493e-02, -3.44336279e-01,\n",
              "         4.54800173e-02,  1.35664512e+00]])"
            ]
          },
          "metadata": {},
          "execution_count": 47
        }
      ]
    },
    {
      "cell_type": "code",
      "source": [
        "np.linalg.inv(A)"
      ],
      "metadata": {
        "colab": {
          "base_uri": "https://localhost:8080/"
        },
        "id": "EkXJ6QtTfg_D",
        "outputId": "a5bccd1d-bb72-403a-8134-289d9205098c"
      },
      "execution_count": null,
      "outputs": [
        {
          "output_type": "execute_result",
          "data": {
            "text/plain": [
              "array([[ 1.15029669e+00,  5.43585507e-02,  3.40591048e-01,\n",
              "        -1.88453748e-01, -4.41855614e-01],\n",
              "       [ 9.96589607e-02,  1.73079024e+00,  7.34918870e-02,\n",
              "         1.62570653e-01, -1.24139519e-01],\n",
              "       [-3.15511068e-04,  2.65296914e-01,  9.74233264e-01,\n",
              "         7.49800559e-03, -9.36746381e-02],\n",
              "       [-5.95924523e-02,  3.05778475e-02,  1.04990686e-01,\n",
              "         9.60638563e-01,  1.10850588e-02],\n",
              "       [-4.92462669e-02,  3.04280493e-02, -3.44336279e-01,\n",
              "         4.54800173e-02,  1.35664512e+00]])"
            ]
          },
          "metadata": {},
          "execution_count": 41
        }
      ]
    },
    {
      "cell_type": "code",
      "source": [
        "import numpy as np\n",
        "\n",
        "def gauss_elimination(A, b):\n",
        "    \"\"\"\n",
        "    Метод Гаусса для решения системы уравнений Ax = b.\n",
        "    Параметры:\n",
        "    A (ndarray): Матрица коэффициентов.\n",
        "    b (ndarray): Вектор свободных членов.\n",
        "\n",
        "    Возвращает:\n",
        "    x (ndarray): Вектор решения.\n",
        "    \"\"\"\n",
        "    n = len(b)\n",
        "\n",
        "    # Преобразуем систему к верхнетреугольному виду\n",
        "    for i in range(n):\n",
        "        for j in range(i + 1, n):\n",
        "            if A[j, i] != 0:  # Проверяем, что элемент не равен нулю\n",
        "                ratio = A[j, i] / A[i, i]\n",
        "                A[j, i:] -= ratio * A[i, i:]\n",
        "                b[j] -= ratio * b[i]\n",
        "\n",
        "    # Обратная подстановка для нахождения решения\n",
        "    x = np.zeros(n)\n",
        "    for i in range(n - 1, -1, -1):\n",
        "        x[i] = (b[i] - np.dot(A[i, i + 1:], x[i + 1:])) / A[i, i]\n",
        "\n",
        "    return x\n",
        "\n",
        "def compute_determinant(A):\n",
        "    \"\"\"\n",
        "    Вычисляет определитель матрицы A.\n",
        "\n",
        "    Параметры:\n",
        "    A (ndarray): Матрица коэффициентов.\n",
        "\n",
        "    Возвращает:\n",
        "    det (float): Определитель матрицы A.\n",
        "    \"\"\"\n",
        "    det = 1\n",
        "    # Определитель равен произведению диагональных элементов\n",
        "    for i in range(len(A)):\n",
        "        det *= A[i, i]\n",
        "    return det\n",
        "\n",
        "\n",
        "def compute_inverse(A):\n",
        "    n = len(A)\n",
        "    A = A.astype(float)  # Преобразуем A к типу float для корректного деления\n",
        "    b = np.eye(n)  # Единичная матрица для хранения обратной матрицы\n",
        "\n",
        "    # Преобразование системы к верхнетреугольному виду\n",
        "    for i in range(n):\n",
        "        # Нормализуем строку, деля на диагональный элемент\n",
        "        b[i] /= A[i, i]\n",
        "        A[i] /= A[i, i]\n",
        "\n",
        "        for j in range(i + 1, n):\n",
        "            if A[j, i] != 0:  # Проверяем, что элемент не равен нулю\n",
        "                ratio = A[j, i] / A[i, i]\n",
        "                A[j, i:] -= ratio * A[i, i:]\n",
        "                b[j] -= ratio * b[i]\n",
        "\n",
        "    # Обратный ход для получения диагональной матрицы\n",
        "    for i in range(n - 1, -1, -1):\n",
        "        for j in range(i - 1, -1, -1):\n",
        "            ratio = A[j, i]\n",
        "            A[j, i:] -= ratio * A[i, i:]\n",
        "            b[j] -= ratio * b[i]\n",
        "\n",
        "    return b\n",
        "def compute_condition_number(A):\n",
        "    \"\"\"\n",
        "    Вычисляет число обусловленности матрицы A.\n",
        "\n",
        "    Параметры:\n",
        "    A (ndarray): Матрица коэффициентов.\n",
        "\n",
        "    Возвращает:\n",
        "    condition_number (float): Число обусловленности матрицы A.\n",
        "    \"\"\"\n",
        "    A_inv = compute_inverse(A)\n",
        "    norm_A = np.max(np.sum(np.abs(A), axis=0))  # Норма 1\n",
        "    norm_A_inv = np.max(np.sum(np.abs(A_inv), axis=0))\n",
        "    return norm_A * norm_A_inv\n",
        "\n",
        "def compute_residual_matrix(A):\n",
        "    \"\"\"\n",
        "    Вычисляет матрицу невязки R = E - A^(-1) * A.\n",
        "\n",
        "    Параметры:\n",
        "    A (ndarray): Матрица коэффициентов.\n",
        "\n",
        "    Возвращает:\n",
        "    R (ndarray): Матрица невязки.\n",
        "    \"\"\"\n",
        "    A_inv = compute_inverse(A)\n",
        "    return np.eye(A.shape[0]) - A_inv @ A\n",
        "\n",
        "def compute_residual_vector(A, x, b):\n",
        "    \"\"\"\n",
        "    Вычисляет вектор невязки r = Ax - b.\n",
        "\n",
        "    Параметры:\n",
        "    A (ndarray): Матрица коэффициентов.\n",
        "    x (ndarray): Вектор решения.\n",
        "    b (ndarray): Вектор свободных членов.\n",
        "\n",
        "    Возвращает:\n",
        "    r (ndarray): Вектор невязки.\n",
        "    \"\"\"\n",
        "    return A @ x - b\n"
      ],
      "metadata": {
        "id": "YJJ8OzLjDFAO"
      },
      "execution_count": null,
      "outputs": []
    }
  ],
  "metadata": {
    "colab": {
      "provenance": []
    },
    "kernelspec": {
      "display_name": "Python 3",
      "name": "python3"
    },
    "language_info": {
      "name": "python"
    }
  },
  "nbformat": 4,
  "nbformat_minor": 0
}