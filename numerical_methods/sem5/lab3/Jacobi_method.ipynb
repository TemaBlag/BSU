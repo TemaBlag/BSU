{
  "nbformat": 4,
  "nbformat_minor": 0,
  "metadata": {
    "colab": {
      "provenance": []
    },
    "kernelspec": {
      "name": "python3",
      "display_name": "Python 3"
    },
    "language_info": {
      "name": "python"
    }
  },
  "cells": [
    {
      "cell_type": "code",
      "source": [
        "import numpy as np"
      ],
      "metadata": {
        "id": "DLHpYBLzD9ul"
      },
      "execution_count": null,
      "outputs": []
    },
    {
      "cell_type": "code",
      "execution_count": null,
      "metadata": {
        "id": "Z62z6rV3qceW"
      },
      "outputs": [],
      "source": [
        "A = np.array([[0.8894, 0.0000, -0.2323, 0.1634, 0.2723],\n",
        "              [-0.0545, 0.5808, 0.0000, -0.1107, 0.0363],\n",
        "              [0.0182, -0.1634, 1.0527, 0.0200, 0.0635],\n",
        "              [0.0545, 0.0000, -0.1325, 1.0527, 0.0000],\n",
        "              [0.0363, -0.0545, 0.2632, -0.0218, 0.7623]])\n",
        "b = np.array([4.2326, -4.1037, -2.6935, 1.6916, 3.1908])"
      ]
    },
    {
      "cell_type": "code",
      "source": [
        "def jacobi_method(A, b, max_iter=100, epsilon=1e-5, iterations=False):\n",
        "    n = len(A)\n",
        "    x = [b[i] / A[i, i] for i in range(n)]\n",
        "    new_x = [0] * n\n",
        "    k = 0\n",
        "    for iter in range(max_iter):\n",
        "        k += 1\n",
        "        new_x = [0] * n\n",
        "        for i in range(n):\n",
        "           new_x[i] = (b[i] - x @ A[i] + x[i] * A[i, i]) / A[i, i]\n",
        "        if all(abs(x[i]-new_x[i]) <= epsilon for i in range(n)):\n",
        "            break\n",
        "        x = new_x.copy()\n",
        "    if iterations:\n",
        "        return (x, k)\n",
        "    return x\n",
        "\n",
        "def condition_method(A):\n",
        "    B = A.copy()\n",
        "    n = len(A)\n",
        "    for i in range(n):\n",
        "        B[i] = - B[i] / B[i, i]\n",
        "        B[i, i] = 0\n",
        "    return np.linalg.norm(B, ord=np.inf)\n",
        "\n",
        "def residual(A, b, x):\n",
        "    return b - A @ x"
      ],
      "metadata": {
        "id": "j0nwJC-rqp7E"
      },
      "execution_count": null,
      "outputs": []
    },
    {
      "cell_type": "code",
      "source": [
        "sol, k = jacobi_method(A, b, max_iter=1000, epsilon=1e-14, iterations=True)\n",
        "print(k)"
      ],
      "metadata": {
        "colab": {
          "base_uri": "https://localhost:8080/"
        },
        "id": "Xm694wcmC8BI",
        "outputId": "c66c011b-a3a7-4c12-d9c2-9f22c2987860"
      },
      "execution_count": null,
      "outputs": [
        {
          "output_type": "stream",
          "name": "stdout",
          "text": [
            "25\n"
          ]
        }
      ]
    },
    {
      "cell_type": "code",
      "source": [
        "residual(A, b, sol)"
      ],
      "metadata": {
        "colab": {
          "base_uri": "https://localhost:8080/"
        },
        "id": "SRB5AOCcOnF-",
        "outputId": "d3a08523-24c2-4632-9400-4de5aec7b7ff"
      },
      "execution_count": null,
      "outputs": [
        {
          "output_type": "execute_result",
          "data": {
            "text/plain": [
              "array([-9.76996262e-15, -3.55271368e-15, -3.99680289e-15,  4.44089210e-16,\n",
              "        3.99680289e-15])"
            ]
          },
          "metadata": {},
          "execution_count": 41
        }
      ]
    },
    {
      "cell_type": "code",
      "source": [
        "condition_method(A)"
      ],
      "metadata": {
        "colab": {
          "base_uri": "https://localhost:8080/"
        },
        "id": "bGw4g_CZ45QN",
        "outputId": "52d28912-006f-42c6-ba09-a13a44eed4e6"
      },
      "execution_count": null,
      "outputs": [
        {
          "output_type": "execute_result",
          "data": {
            "text/plain": [
              "0.7510681358219025"
            ]
          },
          "metadata": {},
          "execution_count": 20
        }
      ]
    },
    {
      "cell_type": "code",
      "source": [
        "x10 = jacobi_method(A, b, max_iter=10)\n",
        "x100 = jacobi_method(A, b, max_iter=100)\n",
        "x1000 = jacobi_method(A, b, max_iter=1000)"
      ],
      "metadata": {
        "id": "w9afz6Chy3Yb"
      },
      "execution_count": null,
      "outputs": []
    },
    {
      "cell_type": "code",
      "source": [
        "print(f\"10 iterations r: {residual(A, b, x10)}\\n 100 iterations r: {residual(A, b, x100)}\\n 1000 iterations r: {residual(A, b, x1000)}\")"
      ],
      "metadata": {
        "colab": {
          "base_uri": "https://localhost:8080/"
        },
        "id": "lc7jCen20qRf",
        "outputId": "2ccb9216-c929-4fe9-bf95-54e0ac523f75"
      },
      "execution_count": null,
      "outputs": [
        {
          "output_type": "stream",
          "name": "stdout",
          "text": [
            "10 iterations r: [-2.03616879e-06 -5.28078727e-07 -7.53070897e-07  4.34925762e-09\n",
            "  8.09659939e-07]\n",
            " 100 iterations r: [-8.88178420e-16  0.00000000e+00  0.00000000e+00 -2.22044605e-16\n",
            " -4.44089210e-16]\n",
            " 1000 iterations r: [-8.88178420e-16  0.00000000e+00  0.00000000e+00 -2.22044605e-16\n",
            " -4.44089210e-16]\n"
          ]
        }
      ]
    },
    {
      "cell_type": "code",
      "source": [
        "import numpy as np\n",
        "A = np.array([[0.8894, 0.0000, -0.2323, 0.1634, 0.2723],\n",
        "              [-0.0545, 0.5808, 0.0000, -0.1107, 0.0363],\n",
        "              [0.0182, -0.1634, 1.0527, 0.0200, 0.0635],\n",
        "              [0.0545, 0.0000, -0.1325, 1.0527, 0.0000],\n",
        "              [0.0363, -0.0545, 0.2632, -0.0218, 0.7623]])\n",
        "b = np.array([4.2326, -4.1037, -2.6935, 1.6916, 3.1908])\n",
        "\n",
        "def jacobi_method(A, b, max_iter=10):\n",
        "    n = len(A)\n",
        "    x = [b[i] / A[i, i] for i in range(n)]\n",
        "    new_x = [0] * n\n",
        "    for iter in range(max_iter):\n",
        "        new_x = [0] * n\n",
        "        for i in range(n):\n",
        "           new_x[i] = (b[i] - x @ A[i] + x[i] * A[i, i]) / A[i, i]\n",
        "        x = new_x.copy()\n",
        "    return x\n",
        "\n",
        "def condition_method(A):\n",
        "    B = A.copy()\n",
        "    n = len(A)\n",
        "    for i in range(n):\n",
        "        B[i] = - B[i] / B[i, i]\n",
        "        B[i, i] = 0\n",
        "    return np.linalg.norm(B, ord=np.inf)\n",
        "\n",
        "def residual(A, b, x):\n",
        "    return b - A @ x\n",
        "\n",
        "x10 = jacobi_method(A, b, max_iter=10)\n",
        "x100 = jacobi_method(A, b, max_iter=100)\n",
        "x1000 = jacobi_method(A, b, max_iter=1000)\n",
        "\n",
        "print(f\"Norm matrix B: {condition_method(A)}\")\n",
        "\n",
        "print(f\"Solution: {x100}\")\n",
        "\n",
        "print(f\"10 iterations r: {residual(A, b, x10)}\\n 100 iterations r: {residual(A, b, x100)}\\n 1000 iterations r: {residual(A, b, x1000)}\")"
      ],
      "metadata": {
        "colab": {
          "base_uri": "https://localhost:8080/"
        },
        "id": "SfyoNala1x9I",
        "outputId": "38b098fe-d516-4942-fa14-6c312d334548"
      },
      "execution_count": null,
      "outputs": [
        {
          "output_type": "stream",
          "name": "stdout",
          "text": [
            "Norm matrix B: 0.7510681358219025\n",
            "Solution: [1.999631326927867, -6.999877644580587, -4.0003450838339285, 0.9998806583779195, 4.999879674171068]\n",
            "10 iterations r: [-2.03616879e-06 -5.28078727e-07 -7.53070897e-07  4.34925762e-09\n",
            "  8.09659939e-07]\n",
            " 100 iterations r: [-8.88178420e-16  0.00000000e+00  0.00000000e+00 -2.22044605e-16\n",
            " -4.44089210e-16]\n",
            " 1000 iterations r: [-8.88178420e-16  0.00000000e+00  0.00000000e+00 -2.22044605e-16\n",
            " -4.44089210e-16]\n"
          ]
        }
      ]
    }
  ]
}