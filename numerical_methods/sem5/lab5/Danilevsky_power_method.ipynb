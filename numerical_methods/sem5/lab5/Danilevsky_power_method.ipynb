{
  "nbformat": 4,
  "nbformat_minor": 0,
  "metadata": {
    "colab": {
      "provenance": []
    },
    "kernelspec": {
      "name": "python3",
      "display_name": "Python 3"
    },
    "language_info": {
      "name": "python"
    }
  },
  "cells": [
    {
      "cell_type": "code",
      "execution_count": 46,
      "metadata": {
        "id": "Y5SS2vxsn3Gt"
      },
      "outputs": [],
      "source": [
        "import numpy as np\n",
        "from tabulate import tabulate\n",
        "from sympy import Symbol, solve"
      ]
    },
    {
      "cell_type": "code",
      "source": [
        "A = np.array([[0.8894, 0.0000, -0.2323, 0.1634, 0.2723],\n",
        "              [-0.0545, 0.5808, 0.0000, -0.1107, 0.0363],\n",
        "              [0.0182, -0.1634, 1.0527, 0.0200, 0.0635],\n",
        "              [0.0545, 0.0000, -0.1325, 1.0527, 0.0000],\n",
        "              [0.0363, -0.0545, 0.2632, -0.0218, 0.7623]])"
      ],
      "metadata": {
        "id": "8SgEUiQgqAqT"
      },
      "execution_count": 47,
      "outputs": []
    },
    {
      "cell_type": "code",
      "source": [
        "print(tabulate(A, tablefmt=\"grid\", floatfmt=\".5f\"))"
      ],
      "metadata": {
        "colab": {
          "base_uri": "https://localhost:8080/"
        },
        "id": "pkE9cRDUAB4C",
        "outputId": "2c51ac80-1d55-4588-82c6-b8752adfee86"
      },
      "execution_count": 48,
      "outputs": [
        {
          "output_type": "stream",
          "name": "stdout",
          "text": [
            "+----------+----------+----------+----------+---------+\n",
            "|  0.88940 |  0.00000 | -0.23230 |  0.16340 | 0.27230 |\n",
            "+----------+----------+----------+----------+---------+\n",
            "| -0.05450 |  0.58080 |  0.00000 | -0.11070 | 0.03630 |\n",
            "+----------+----------+----------+----------+---------+\n",
            "|  0.01820 | -0.16340 |  1.05270 |  0.02000 | 0.06350 |\n",
            "+----------+----------+----------+----------+---------+\n",
            "|  0.05450 |  0.00000 | -0.13250 |  1.05270 | 0.00000 |\n",
            "+----------+----------+----------+----------+---------+\n",
            "|  0.03630 | -0.05450 |  0.26320 | -0.02180 | 0.76230 |\n",
            "+----------+----------+----------+----------+---------+\n"
          ]
        }
      ]
    },
    {
      "cell_type": "code",
      "source": [
        "A = A.T @ A"
      ],
      "metadata": {
        "id": "oAJBFov52WFT"
      },
      "execution_count": 49,
      "outputs": []
    },
    {
      "cell_type": "code",
      "source": [
        "print(tabulate(A, tablefmt=\"grid\", floatfmt=\".5f\"))"
      ],
      "metadata": {
        "colab": {
          "base_uri": "https://localhost:8080/"
        },
        "id": "K-Js0CytAOlE",
        "outputId": "766f64c4-40ab-4ed9-adde-55419531e094"
      },
      "execution_count": 50,
      "outputs": [
        {
          "output_type": "stream",
          "name": "stdout",
          "text": [
            "+----------+----------+----------+----------+----------+\n",
            "|  0.79862 | -0.03661 | -0.18512 |  0.20831 |  0.26903 |\n",
            "+----------+----------+----------+----------+----------+\n",
            "| -0.03661 |  0.36700 | -0.18636 | -0.06637 | -0.03084 |\n",
            "+----------+----------+----------+----------+----------+\n",
            "| -0.18512 | -0.18636 |  1.24897 | -0.16212 |  0.20423 |\n",
            "+----------+----------+----------+----------+----------+\n",
            "|  0.20831 | -0.06637 | -0.16212 |  1.14801 |  0.02513 |\n",
            "+----------+----------+----------+----------+----------+\n",
            "|  0.26903 | -0.03084 |  0.20423 |  0.02513 |  0.66060 |\n",
            "+----------+----------+----------+----------+----------+\n"
          ]
        }
      ]
    },
    {
      "cell_type": "code",
      "source": [
        "def danilevsky_method_v0(A: np.ndarray):\n",
        "    X = A.copy()\n",
        "    n = X.shape[0]\n",
        "    s = np.eye(n)\n",
        "    n -= 1\n",
        "    for i in np.arange(n):\n",
        "        ones_left = np.eye(n + 1)\n",
        "        ones_left[n - 1 - i] = X[n - i]\n",
        "        ones_right = np.linalg.inv(ones_left)\n",
        "        X = ones_left @ X @ ones_right\n",
        "        s = s @ ones_right\n",
        "    p = X[0]\n",
        "    x = Symbol('x')\n",
        "    eigenvalues = solve(x**5 - p[0] * x**4 - p[1] * x**3 - p[2] * x**2 - p[3] * x - p[4], x)\n",
        "    eigenvalues = np.array([complex(sol.evalf()) for sol in eigenvalues])\n",
        "    eigenvalues = eigenvalues[np.isreal(eigenvalues)].real\n",
        "    r1 = p[0] - np.trace(A)\n",
        "    detA = np.linalg.det(A)\n",
        "    r2 = p[n] - detA\n",
        "    max_eigenvalue = np.max(eigenvalues)\n",
        "    y = np.array([max_eigenvalue ** i for i in np.arange(n, -1, -1)])\n",
        "    eigenvector_max_eigenvalue = s @ y\n",
        "    r_eigenvector = A @ eigenvector_max_eigenvalue - max_eigenvalue * eigenvector_max_eigenvalue\n",
        "    r_eigenvalue = np.sum([p[n-i] * (max_eigenvalue ** i) for i in range(n+1)]) - max_eigenvalue ** (n+1)\n",
        "    return X, p, r1, r2, max_eigenvalue, eigenvector_max_eigenvalue, r_eigenvalue, r_eigenvector\n",
        "\n",
        "def pretty_print(X, p, r1, r2, eigenvalue, eigenvector, r_eigenvalue, r_eigenvector, c=None):\n",
        "    p *= -1\n",
        "    x = [f\"x^{i}\" if i != 1 else \"x\" for i in range(5, 0, -1)]\n",
        "    polynom = \"p(x)=\"\n",
        "    for i, j in zip(x, p):\n",
        "        polynom += i\n",
        "        polynom += f\" - {-round(j, 3)}\" if np.sign(j) == -1 else f\" + {round(j, 3)}\"\n",
        "    print(f'1)Frobenius normal form:\\n{tabulate(X, tablefmt=\"grid\", floatfmt=\".3f\")}\\n',\\\n",
        "        f'2)Characteristic polynomial:\\n{polynom}\\n',\\\n",
        "        f'3)r1 = p1 - SpA = {r1:.3e}\\n',\\\n",
        "        f'4)r2 = p5 - detA = {r2:.3e}\\n',\\\n",
        "        f'5)max eigenvalue: {eigenvalue}\\n',\\\n",
        "        f'6)eigenvector:\\n{tabulate([eigenvector], tablefmt=\"grid\", floatfmt=\".5f\")}\\n',\\\n",
        "        f'7)r of eigenvalue: {r_eigenvalue}\\n',\\\n",
        "        f'8)r of eigenvector:\\n{tabulate([r_eigenvector], tablefmt=\"grid\", floatfmt=\".3e\")}\\n',\\\n",
        "          \"\" if c is None else f'9)count of iterations: {c}')\n"
      ],
      "metadata": {
        "id": "IrEKrrAZEu5m"
      },
      "execution_count": 51,
      "outputs": []
    },
    {
      "cell_type": "code",
      "source": [
        "X, p, r1, r2, max_eigenvalue, eigenvector_max_eigenvalue, r_eigenvalue, r = danilevsky_method_v0(A)\n",
        "pretty_print(X, p, r1, r2, max_eigenvalue, eigenvector_max_eigenvalue, r_eigenvalue, r)"
      ],
      "metadata": {
        "colab": {
          "base_uri": "https://localhost:8080/"
        },
        "id": "gSMOObzhGGpS",
        "outputId": "17e8408a-f033-4e04-c1d0-8780998bd907"
      },
      "execution_count": 52,
      "outputs": [
        {
          "output_type": "stream",
          "name": "stdout",
          "text": [
            "1)Frobenius normal form:\n",
            "+--------+--------+--------+--------+--------+\n",
            "| -4.223 |  6.614 | -4.722 |  1.511 | -0.174 |\n",
            "+--------+--------+--------+--------+--------+\n",
            "|  1.000 |  0.000 |  0.000 | -0.000 | -0.000 |\n",
            "+--------+--------+--------+--------+--------+\n",
            "| -0.000 |  1.000 | -0.000 | -0.000 | -0.000 |\n",
            "+--------+--------+--------+--------+--------+\n",
            "| -0.000 |  0.000 |  1.000 | -0.000 | -0.000 |\n",
            "+--------+--------+--------+--------+--------+\n",
            "|  0.000 | -0.000 |  0.000 |  1.000 | -0.000 |\n",
            "+--------+--------+--------+--------+--------+\n",
            " 2)Characteristic polynomial:\n",
            "p(x)=x^5 - 4.223x^4 + 6.614x^3 - 4.722x^2 + 1.511x - 0.174\n",
            " 3)r1 = p1 - SpA = 0.000e+00\n",
            " 4)r2 = p5 - detA = -4.163e-16\n",
            " 5)max eigenvalue: 1.4875053959422158\n",
            " 6)eigenvector:\n",
            "+----------+----------+----------+----------+---------+\n",
            "| -5.44620 | -1.34189 | 12.10141 | -8.78417 | 1.00000 |\n",
            "+----------+----------+----------+----------+---------+\n",
            " 7)r of eigenvalue: 7.993605777301127e-15\n",
            " 8)r of eigenvector:\n",
            "+------------+------------+-----------+------------+-----------+\n",
            "| -6.217e-14 | -2.141e-13 | 1.137e-13 | -4.530e-13 | 4.885e-15 |\n",
            "+------------+------------+-----------+------------+-----------+\n",
            " \n"
          ]
        }
      ]
    },
    {
      "cell_type": "code",
      "source": [
        "def danilevsky_method(A: np.ndarray):\n",
        "    X = A.copy()\n",
        "    n = X.shape[0]\n",
        "    s = np.eye(n)\n",
        "    n -= 1\n",
        "    for i in np.arange(n):\n",
        "        ones_left = np.eye(n+1)\n",
        "        ones_left[n-1-i] = X[n-i]\n",
        "        ones_right = ones_left.copy()\n",
        "        ones_right[n-1-i] /= -X[n-i, n-1-i]\n",
        "        ones_right[n-1-i, n-1-i] = 1 / X[n-i, n-1-i]\n",
        "        X = ones_left @ X @ ones_right\n",
        "        s = s @ ones_right\n",
        "    p = X[0]\n",
        "    r1 = p[0] - np.trace(A)\n",
        "    detA = np.linalg.det(A)\n",
        "    r2 = p[n] - detA\n",
        "    return X, r1, r2, s, p\n",
        "\n",
        "def power_iteration(A: np.ndarray, num_iter: int=1000, tol: float=1e-5):\n",
        "    n = A.shape[0]\n",
        "    u = np.zeros(n)\n",
        "    u[0] = 1\n",
        "    prev_eigenvalue = 0\n",
        "    c = 0\n",
        "    for k in range(1, num_iter + 1):\n",
        "        c += 1\n",
        "        v = A @ u\n",
        "        v_norm = np.linalg.norm(v, np.inf)\n",
        "        u = v / v_norm\n",
        "        eigenvalue = v_norm\n",
        "        if abs(eigenvalue - prev_eigenvalue) < tol:\n",
        "            break\n",
        "        prev_eigenvalue = eigenvalue\n",
        "    return eigenvalue, u, c\n",
        "\n",
        "\n",
        "def danilevsky_power_method(A: np.ndarray, type_eigenvector: str ='danilevsky'):\n",
        "    A_copy = A.copy()\n",
        "    n = A_copy.shape[0]\n",
        "    X, r1, r2, s, p = danilevsky_method(A_copy)\n",
        "    eigenvalue, u, c = power_iteration(A_copy)\n",
        "    r_eigenvalue = np.sum([p[n-1-i] * (eigenvalue ** i) for i in range(n)]) - eigenvalue ** (n)\n",
        "    if type_eigenvector == 'danilevsky':\n",
        "        y = np.array([eigenvalue ** i for i in np.arange(n-1, -1, -1)])\n",
        "        eigenvector = s @ y\n",
        "        r_eigenvector = A_copy @ eigenvector - eigenvalue * eigenvector\n",
        "    elif type_eigenvector == 'power':\n",
        "        r_eigenvector = A_copy @ u - eigenvalue * u\n",
        "        eigenvector = u\n",
        "    else:\n",
        "        raise AttributeError(\"Invalid type_eigenvector. Choose 'danilevsky' or 'power'.\")\n",
        "    return X, p, r1, r2, c, eigenvalue, eigenvector, r_eigenvalue, r_eigenvector"
      ],
      "metadata": {
        "id": "5Tx6C7s1ogwQ"
      },
      "execution_count": 61,
      "outputs": []
    },
    {
      "cell_type": "code",
      "source": [
        "X, p, r1, r2, c, eigenvalue, eigenvector, r_eigenvalue, r_eigenvector = danilevsky_power_method(A)\n",
        "pretty_print(X, p, r1, r2, eigenvalue, eigenvector, r_eigenvalue, r_eigenvector, c)"
      ],
      "metadata": {
        "colab": {
          "base_uri": "https://localhost:8080/"
        },
        "id": "NSFZCkfTtzFl",
        "outputId": "ab5cc8ea-3476-41a7-b124-479de75ef346"
      },
      "execution_count": 62,
      "outputs": [
        {
          "output_type": "stream",
          "name": "stdout",
          "text": [
            "1)Frobenius normal form:\n",
            "+--------+--------+--------+--------+--------+\n",
            "| -4.223 |  6.614 | -4.722 |  1.511 | -0.174 |\n",
            "+--------+--------+--------+--------+--------+\n",
            "|  1.000 |  0.000 |  0.000 |  0.000 |  0.000 |\n",
            "+--------+--------+--------+--------+--------+\n",
            "|  0.000 |  1.000 |  0.000 |  0.000 |  0.000 |\n",
            "+--------+--------+--------+--------+--------+\n",
            "|  0.000 | -0.000 |  1.000 | -0.000 |  0.000 |\n",
            "+--------+--------+--------+--------+--------+\n",
            "|  0.000 | -0.000 |  0.000 |  1.000 | -0.000 |\n",
            "+--------+--------+--------+--------+--------+\n",
            " 2)Characteristic polynomial:\n",
            "p(x)=x^5 - 4.223x^4 + 6.614x^3 - 4.722x^2 + 1.511x - 0.174\n",
            " 3)r1 = p1 - SpA = 0.000e+00\n",
            " 4)r2 = p5 - detA = -2.776e-17\n",
            " 5)max eigenvalue: 1.4875366314428213\n",
            " 6)eigenvector:\n",
            "+----------+----------+----------+----------+---------+\n",
            "| -5.44735 | -1.34234 | 12.10333 | -8.78681 | 1.00000 |\n",
            "+----------+----------+----------+----------+---------+\n",
            " 7)r of eigenvalue: -7.712578678820137e-06\n",
            " 8)r of eigenvector:\n",
            "+-----------+-----------+------------+-----------+-----------+\n",
            "| 7.074e-05 | 4.099e-04 | -1.114e-04 | 6.508e-04 | 5.773e-15 |\n",
            "+-----------+-----------+------------+-----------+-----------+\n",
            " 9)count of iterations: 40\n"
          ]
        }
      ]
    },
    {
      "cell_type": "code",
      "source": [
        "X, p, r1, r2, c, eigenvalue, eigenvector, r_eigenvalue, r_eigenvector = danilevsky_power_method(A, type_eigenvector='power')\n",
        "pretty_print(X, p, r1, r2, eigenvalue, eigenvector, r_eigenvalue, r_eigenvector, c)"
      ],
      "metadata": {
        "colab": {
          "base_uri": "https://localhost:8080/"
        },
        "id": "16hQ8SzjcCtq",
        "outputId": "89eea1fb-bf69-44ab-b7db-322362106cdc"
      },
      "execution_count": 63,
      "outputs": [
        {
          "output_type": "stream",
          "name": "stdout",
          "text": [
            "1)Frobenius normal form:\n",
            "+--------+--------+--------+--------+--------+\n",
            "| -4.223 |  6.614 | -4.722 |  1.511 | -0.174 |\n",
            "+--------+--------+--------+--------+--------+\n",
            "|  1.000 |  0.000 |  0.000 |  0.000 |  0.000 |\n",
            "+--------+--------+--------+--------+--------+\n",
            "|  0.000 |  1.000 |  0.000 |  0.000 |  0.000 |\n",
            "+--------+--------+--------+--------+--------+\n",
            "|  0.000 | -0.000 |  1.000 | -0.000 |  0.000 |\n",
            "+--------+--------+--------+--------+--------+\n",
            "|  0.000 | -0.000 |  0.000 |  1.000 | -0.000 |\n",
            "+--------+--------+--------+--------+--------+\n",
            " 2)Characteristic polynomial:\n",
            "p(x)=x^5 - 4.223x^4 + 6.614x^3 - 4.722x^2 + 1.511x - 0.174\n",
            " 3)r1 = p1 - SpA = 0.000e+00\n",
            " 4)r2 = p5 - detA = -2.776e-17\n",
            " 5)max eigenvalue: 1.4875366314428213\n",
            " 6)eigenvector:\n",
            "+---------+---------+----------+---------+----------+\n",
            "| 0.45014 | 0.11087 | -1.00000 | 0.72603 | -0.08257 |\n",
            "+---------+---------+----------+---------+----------+\n",
            " 7)r of eigenvalue: -7.712578678820137e-06\n",
            " 8)r of eigenvector:\n",
            "+------------+-----------+-----------+------------+------------+\n",
            "| -3.221e-05 | 6.000e-06 | 6.415e-06 | -4.945e-05 | -1.836e-05 |\n",
            "+------------+-----------+-----------+------------+------------+\n",
            " 9)count of iterations: 40\n"
          ]
        }
      ]
    },
    {
      "cell_type": "code",
      "source": [
        "import numpy as np\n",
        "from tabulate import tabulate\n",
        "from sympy import Symbol, solve\n",
        "\n",
        "A = np.array([[0.8894, 0.0000, -0.2323, 0.1634, 0.2723],\n",
        "              [-0.0545, 0.5808, 0.0000, -0.1107, 0.0363],\n",
        "              [0.0182, -0.1634, 1.0527, 0.0200, 0.0635],\n",
        "              [0.0545, 0.0000, -0.1325, 1.0527, 0.0000],\n",
        "              [0.0363, -0.0545, 0.2632, -0.0218, 0.7623]])\n",
        "\n",
        "A = A.T @ A\n",
        "\n",
        "def pretty_print(X, p, r1, r2, eigenvalue, eigenvector, r_eigenvalue, r_eigenvector, c=None):\n",
        "    p *= -1\n",
        "    x = [f\"x^{i}\" if i != 1 else \"x\" for i in range(5, 0, -1)]\n",
        "    polynom = \"p(x)=\"\n",
        "    for i, j in zip(x, p):\n",
        "        polynom += i\n",
        "        polynom += f\" - {-round(j, 3)}\" if np.sign(j) == -1 else f\" + {round(j, 3)}\"\n",
        "    print(f'1)Frobenius normal form:\\n{tabulate(X, tablefmt=\"grid\", floatfmt=\".3f\")}\\n',\\\n",
        "        f'2)Characteristic polynomial:\\n{polynom}\\n',\\\n",
        "        f'3)r1 = p1 - SpA = {r1:.3e}\\n',\\\n",
        "        f'4)r2 = p5 - detA = {r2:.3e}\\n',\\\n",
        "        f'5)max eigenvalue: {eigenvalue}\\n',\\\n",
        "        f'6)eigenvector:\\n{tabulate([eigenvector], tablefmt=\"grid\", floatfmt=\".5f\")}\\n',\\\n",
        "        f'7)r of eigenvalue: {r_eigenvalue}\\n',\\\n",
        "        f'8)r of eigenvector:\\n{tabulate([r_eigenvector], tablefmt=\"grid\", floatfmt=\".3e\")}\\n',\\\n",
        "          \"\" if c is None else f'9)count of iterations: {c}')\n",
        "\n",
        "def danilevsky_method(A: np.ndarray):\n",
        "    X = A.copy()\n",
        "    n = X.shape[0]\n",
        "    s = np.eye(n)\n",
        "    n -= 1\n",
        "    for i in np.arange(n):\n",
        "        ones_left = np.eye(n+1)\n",
        "        ones_left[n-1-i] = X[n-i]\n",
        "        ones_right = ones_left.copy()\n",
        "        ones_right[n-1-i] /= -X[n-i, n-1-i]\n",
        "        ones_right[n-1-i, n-1-i] = 1 / X[n-i, n-1-i]\n",
        "        X = ones_left @ X @ ones_right\n",
        "        s = s @ ones_right\n",
        "    p = X[0]\n",
        "    r1 = p[0] - np.trace(A)\n",
        "    detA = np.linalg.det(A)\n",
        "    r2 = p[n] - detA\n",
        "    return X, r1, r2, s, p\n",
        "\n",
        "def power_iteration(A: np.ndarray, num_iter: int=1000, tol: float=1e-5):\n",
        "    n = A.shape[0]\n",
        "    u = np.zeros(n)\n",
        "    u[0] = 1\n",
        "    prev_eigenvalue = 0\n",
        "    c = 0\n",
        "    for k in range(1, num_iter + 1):\n",
        "        c += 1\n",
        "        v = A @ u\n",
        "        v_norm = np.linalg.norm(v, np.inf)\n",
        "        u = v / v_norm\n",
        "        eigenvalue = v_norm\n",
        "        if abs(eigenvalue - prev_eigenvalue) < tol:\n",
        "            break\n",
        "        prev_eigenvalue = eigenvalue\n",
        "    return eigenvalue, u, c\n",
        "\n",
        "def danilevsky_power_method(A: np.ndarray, type_eigenvector='danilevsky'):\n",
        "    A_copy = A.copy()\n",
        "    n = A_copy.shape[0]\n",
        "    X, r1, r2, s, p = danilevsky_method(A_copy)\n",
        "    eigenvalue, u, c = power_iteration(A_copy)\n",
        "    r_eigenvalue = np.sum([p[n-1-i] * (eigenvalue ** i) for i in range(n)]) - eigenvalue ** (n)\n",
        "    if type_eigenvector == 'danilevsky':\n",
        "        y = np.array([eigenvalue ** i for i in np.arange(n-1, -1, -1)])\n",
        "        eigenvector = s @ y\n",
        "        r_eigenvector = A_copy @ eigenvector - eigenvalue * eigenvector\n",
        "    else:\n",
        "        r_eigenvector = A_copy @ u - eigenvalue * u\n",
        "        eigenvector = u\n",
        "    return X, p, r1, r2, c, eigenvalue, eigenvector, r_eigenvalue, r_eigenvector\n",
        "\n",
        "X, p, r1, r2, c, eigenvalue, eigenvector, r_eigenvalue, r_eigenvector = danilevsky_power_method(A)\n",
        "pretty_print(X, p, r1, r2, eigenvalue, eigenvector, r_eigenvalue, r_eigenvector, c)\n"
      ],
      "metadata": {
        "id": "8Xee0x_xRaK5",
        "colab": {
          "base_uri": "https://localhost:8080/"
        },
        "outputId": "b791f1b2-057f-4273-fe59-5cc91ee99a06"
      },
      "execution_count": 56,
      "outputs": [
        {
          "output_type": "stream",
          "name": "stdout",
          "text": [
            "1)Frobenius normal form:\n",
            "+--------+--------+--------+--------+--------+\n",
            "| -4.223 |  6.614 | -4.722 |  1.511 | -0.174 |\n",
            "+--------+--------+--------+--------+--------+\n",
            "|  1.000 |  0.000 |  0.000 |  0.000 |  0.000 |\n",
            "+--------+--------+--------+--------+--------+\n",
            "|  0.000 |  1.000 |  0.000 |  0.000 |  0.000 |\n",
            "+--------+--------+--------+--------+--------+\n",
            "|  0.000 | -0.000 |  1.000 | -0.000 |  0.000 |\n",
            "+--------+--------+--------+--------+--------+\n",
            "|  0.000 | -0.000 |  0.000 |  1.000 | -0.000 |\n",
            "+--------+--------+--------+--------+--------+\n",
            " 2)Characteristic polynomial:\n",
            "p(x)=x^5 - 4.223x^4 + 6.614x^3 - 4.722x^2 + 1.511x - 0.174\n",
            " 3)r1 = p1 - SpA = 0.000e+00\n",
            " 4)r2 = p5 - detA = -2.776e-17\n",
            " 5)max eigenvalue: 1.4875366314428213\n",
            " 6)eigenvector:\n",
            "+----------+----------+----------+----------+---------+\n",
            "| -5.44735 | -1.34234 | 12.10333 | -8.78681 | 1.00000 |\n",
            "+----------+----------+----------+----------+---------+\n",
            " 7)r of eigenvalue: -7.712578678820137e-06\n",
            " 8)r of eigenvector:\n",
            "+-----------+-----------+------------+-----------+-----------+\n",
            "| 7.074e-05 | 4.099e-04 | -1.114e-04 | 6.508e-04 | 5.773e-15 |\n",
            "+-----------+-----------+------------+-----------+-----------+\n",
            " 9)count of iterations: 40\n"
          ]
        }
      ]
    }
  ]
}